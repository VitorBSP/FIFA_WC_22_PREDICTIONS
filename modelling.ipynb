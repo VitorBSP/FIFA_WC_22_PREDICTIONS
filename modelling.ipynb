{
 "cells": [
  {
   "cell_type": "markdown",
   "id": "8f02d4ac",
   "metadata": {},
   "source": [
    "# Projeto\n",
    "\n",
    "Um trabalho desenvolvido na disciplina de Machine Learning (Estatística-UFSM) para aplicar as técnicas de ML visando predizer o vencedor da Copa do Mundo FIFA 2022, simulando partida a partida da fase de grupo até a grande final.\n",
    "\n",
    "Utilizando dois datasets como fontes [International football results from 1872 to 2022](https://www.kaggle.com/datasets/martj42/international-football-results-from-1872-to-2017) e [FIFA World Ranking 1992-2022](https://www.kaggle.com/datasets/cashncarry/fifaworldranking).\n",
    "\n",
    "A estruturação do feature engineering presente nesse trabalho foi desenvolvida em [Soccer World Cup 2018 Winner](https://www.kaggle.com/code/agostontorok/soccer-world-cup-2018-winner). No entanto, foi realizado uma metodologia buscando uma acurácia melhor, adicionando pouca complexidade (covariáveis) ao modelo. \n",
    "\n",
    "Os modelos utilizados são para classificação binária para simplificação da modelagem e estruturação das variáveis, assim os modelos são para predizer vitória/derrota, com as partidas que foram empates sendo excluídas da modelagem. A probabilidade de vencer a partida é dada como a média de vencer a partida dentro de casa e fora de casa (pois na copa do mundo não tem vantagem de mandante).\n",
    "\n",
    "O autor da modelagem para a previsão do vencedor da Copa do Mundo de 2018, que utilizei como base desse projeto, também realizou a modelagem para a Copa de 2022, estando disponível em [Predicting FIFA 2022 World Cup with ML](https://www.kaggle.com/code/sslp23/predicting-fifa-2022-world-cup-with-ml)."
   ]
  },
  {
   "cell_type": "code",
   "execution_count": 1,
   "id": "a22bbabf",
   "metadata": {
    "_cell_guid": "b1076dfc-b9ad-4769-8c92-a6c4dae69d19",
    "_uuid": "8f2839f25d086af736a60e9eeb907d3b93b6e0e5",
    "execution": {
     "iopub.execute_input": "2022-11-15T20:56:12.986388Z",
     "iopub.status.busy": "2022-11-15T20:56:12.985409Z",
     "iopub.status.idle": "2022-11-15T20:56:13.010933Z",
     "shell.execute_reply": "2022-11-15T20:56:13.009703Z"
    },
    "papermill": {
     "duration": 0.057886,
     "end_time": "2022-11-15T20:56:13.013715",
     "exception": false,
     "start_time": "2022-11-15T20:56:12.955829",
     "status": "completed"
    },
    "tags": []
   },
   "outputs": [],
   "source": [
    "import numpy as np \n",
    "import pandas as pd\n",
    "import re \n",
    "from sklearn.ensemble import RandomForestClassifier, GradientBoostingClassifier\n",
    "from sklearn.model_selection import train_test_split, GridSearchCV\n",
    "from sklearn.linear_model import LogisticRegression\n",
    "from sklearn.metrics import confusion_matrix, roc_curve, roc_auc_score\n",
    "from operator import itemgetter\n",
    "import seaborn as sns\n",
    "import matplotlib.pyplot as plt"
   ]
  },
  {
   "cell_type": "markdown",
   "id": "55e0f6ec",
   "metadata": {
    "papermill": {
     "duration": 0.034357,
     "end_time": "2022-11-15T20:56:52.911068",
     "exception": false,
     "start_time": "2022-11-15T20:56:52.876711",
     "status": "completed"
    },
    "tags": []
   },
   "source": [
    "# Modelagem \n",
    "\n",
    "Após a construção das variáveis e sua avaliação, nós temos os dataset prontos com colunas com poder preditivo interessante (como visto em feature_analysis), nós podemos começar a modelagem.\n",
    "\n",
    "Nós iremos testar 3 modelos: Regressão Logística, Random Forest e Gradient Boosting. Selecionaremos o modelo com melhor Recall/Revocação/Sensibilidade."
   ]
  },
  {
   "cell_type": "code",
   "execution_count": 2,
   "id": "8a19e343",
   "metadata": {},
   "outputs": [],
   "source": [
    "model_db = pd.read_csv('data/modelling_dataset.csv')\n",
    "team_stats_raw = pd.read_csv('data/team_stats_by_match.csv')"
   ]
  },
  {
   "cell_type": "code",
   "execution_count": 3,
   "id": "2b1267ff",
   "metadata": {
    "execution": {
     "iopub.execute_input": "2022-11-15T20:56:52.987164Z",
     "iopub.status.busy": "2022-11-15T20:56:52.986719Z",
     "iopub.status.idle": "2022-11-15T20:56:52.993379Z",
     "shell.execute_reply": "2022-11-15T20:56:52.992473Z"
    },
    "papermill": {
     "duration": 0.048331,
     "end_time": "2022-11-15T20:56:52.995955",
     "exception": false,
     "start_time": "2022-11-15T20:56:52.947624",
     "status": "completed"
    },
    "tags": []
   },
   "outputs": [],
   "source": [
    "X = model_db.iloc[:, 3:]\n",
    "y = model_db[[\"result\"]]"
   ]
  },
  {
   "cell_type": "code",
   "execution_count": 4,
   "id": "61840131",
   "metadata": {
    "execution": {
     "iopub.execute_input": "2022-11-15T20:56:53.562567Z",
     "iopub.status.busy": "2022-11-15T20:56:53.561889Z",
     "iopub.status.idle": "2022-11-15T20:56:53.568068Z",
     "shell.execute_reply": "2022-11-15T20:56:53.567202Z"
    },
    "papermill": {
     "duration": 0.044796,
     "end_time": "2022-11-15T20:56:53.570251",
     "exception": false,
     "start_time": "2022-11-15T20:56:53.525455",
     "status": "completed"
    },
    "tags": []
   },
   "outputs": [],
   "source": [
    "X_train, X_test, y_train, y_test = train_test_split(X, y, test_size= 0.2, random_state=1)"
   ]
  },
  {
   "cell_type": "code",
   "execution_count": 5,
   "id": "c94127ec",
   "metadata": {
    "execution": {
     "iopub.execute_input": "2022-11-15T20:56:53.642083Z",
     "iopub.status.busy": "2022-11-15T20:56:53.641452Z",
     "iopub.status.idle": "2022-11-15T20:57:48.730706Z",
     "shell.execute_reply": "2022-11-15T20:57:48.729351Z"
    },
    "papermill": {
     "duration": 55.161518,
     "end_time": "2022-11-15T20:57:48.766736",
     "exception": false,
     "start_time": "2022-11-15T20:56:53.605218",
     "status": "completed"
    },
    "tags": []
   },
   "outputs": [],
   "source": [
    "gb = GradientBoostingClassifier(random_state=5)\n",
    "\n",
    "params = {\"learning_rate\": [0.01, 0.1],\n",
    "            \"min_samples_split\": [3, 5],\n",
    "            \"min_samples_leaf\": [5, 7, 10],\n",
    "            \"max_depth\":[3, 5],\n",
    "            \"max_features\":[\"sqrt\"],\n",
    "            \"n_estimators\":[200]\n",
    "         } \n",
    "\n",
    "gb_cv = GridSearchCV(gb, params, cv = 5, n_jobs = -1, verbose = False)"
   ]
  },
  {
   "cell_type": "code",
   "execution_count": 6,
   "id": "aefd88ce",
   "metadata": {},
   "outputs": [
    {
     "data": {
      "text/html": [
       "<style>#sk-container-id-1 {color: black;background-color: white;}#sk-container-id-1 pre{padding: 0;}#sk-container-id-1 div.sk-toggleable {background-color: white;}#sk-container-id-1 label.sk-toggleable__label {cursor: pointer;display: block;width: 100%;margin-bottom: 0;padding: 0.3em;box-sizing: border-box;text-align: center;}#sk-container-id-1 label.sk-toggleable__label-arrow:before {content: \"▸\";float: left;margin-right: 0.25em;color: #696969;}#sk-container-id-1 label.sk-toggleable__label-arrow:hover:before {color: black;}#sk-container-id-1 div.sk-estimator:hover label.sk-toggleable__label-arrow:before {color: black;}#sk-container-id-1 div.sk-toggleable__content {max-height: 0;max-width: 0;overflow: hidden;text-align: left;background-color: #f0f8ff;}#sk-container-id-1 div.sk-toggleable__content pre {margin: 0.2em;color: black;border-radius: 0.25em;background-color: #f0f8ff;}#sk-container-id-1 input.sk-toggleable__control:checked~div.sk-toggleable__content {max-height: 200px;max-width: 100%;overflow: auto;}#sk-container-id-1 input.sk-toggleable__control:checked~label.sk-toggleable__label-arrow:before {content: \"▾\";}#sk-container-id-1 div.sk-estimator input.sk-toggleable__control:checked~label.sk-toggleable__label {background-color: #d4ebff;}#sk-container-id-1 div.sk-label input.sk-toggleable__control:checked~label.sk-toggleable__label {background-color: #d4ebff;}#sk-container-id-1 input.sk-hidden--visually {border: 0;clip: rect(1px 1px 1px 1px);clip: rect(1px, 1px, 1px, 1px);height: 1px;margin: -1px;overflow: hidden;padding: 0;position: absolute;width: 1px;}#sk-container-id-1 div.sk-estimator {font-family: monospace;background-color: #f0f8ff;border: 1px dotted black;border-radius: 0.25em;box-sizing: border-box;margin-bottom: 0.5em;}#sk-container-id-1 div.sk-estimator:hover {background-color: #d4ebff;}#sk-container-id-1 div.sk-parallel-item::after {content: \"\";width: 100%;border-bottom: 1px solid gray;flex-grow: 1;}#sk-container-id-1 div.sk-label:hover label.sk-toggleable__label {background-color: #d4ebff;}#sk-container-id-1 div.sk-serial::before {content: \"\";position: absolute;border-left: 1px solid gray;box-sizing: border-box;top: 0;bottom: 0;left: 50%;z-index: 0;}#sk-container-id-1 div.sk-serial {display: flex;flex-direction: column;align-items: center;background-color: white;padding-right: 0.2em;padding-left: 0.2em;position: relative;}#sk-container-id-1 div.sk-item {position: relative;z-index: 1;}#sk-container-id-1 div.sk-parallel {display: flex;align-items: stretch;justify-content: center;background-color: white;position: relative;}#sk-container-id-1 div.sk-item::before, #sk-container-id-1 div.sk-parallel-item::before {content: \"\";position: absolute;border-left: 1px solid gray;box-sizing: border-box;top: 0;bottom: 0;left: 50%;z-index: -1;}#sk-container-id-1 div.sk-parallel-item {display: flex;flex-direction: column;z-index: 1;position: relative;background-color: white;}#sk-container-id-1 div.sk-parallel-item:first-child::after {align-self: flex-end;width: 50%;}#sk-container-id-1 div.sk-parallel-item:last-child::after {align-self: flex-start;width: 50%;}#sk-container-id-1 div.sk-parallel-item:only-child::after {width: 0;}#sk-container-id-1 div.sk-dashed-wrapped {border: 1px dashed gray;margin: 0 0.4em 0.5em 0.4em;box-sizing: border-box;padding-bottom: 0.4em;background-color: white;}#sk-container-id-1 div.sk-label label {font-family: monospace;font-weight: bold;display: inline-block;line-height: 1.2em;}#sk-container-id-1 div.sk-label-container {text-align: center;}#sk-container-id-1 div.sk-container {/* jupyter's `normalize.less` sets `[hidden] { display: none; }` but bootstrap.min.css set `[hidden] { display: none !important; }` so we also need the `!important` here to be able to override the default hidden behavior on the sphinx rendered scikit-learn.org. See: https://github.com/scikit-learn/scikit-learn/issues/21755 */display: inline-block !important;position: relative;}#sk-container-id-1 div.sk-text-repr-fallback {display: none;}</style><div id=\"sk-container-id-1\" class=\"sk-top-container\"><div class=\"sk-text-repr-fallback\"><pre>GridSearchCV(cv=5, estimator=GradientBoostingClassifier(random_state=5),\n",
       "             n_jobs=-1,\n",
       "             param_grid={&#x27;learning_rate&#x27;: [0.01, 0.1], &#x27;max_depth&#x27;: [3, 5],\n",
       "                         &#x27;max_features&#x27;: [&#x27;sqrt&#x27;],\n",
       "                         &#x27;min_samples_leaf&#x27;: [5, 7, 10],\n",
       "                         &#x27;min_samples_split&#x27;: [3, 5], &#x27;n_estimators&#x27;: [200]},\n",
       "             verbose=False)</pre><b>In a Jupyter environment, please rerun this cell to show the HTML representation or trust the notebook. <br />On GitHub, the HTML representation is unable to render, please try loading this page with nbviewer.org.</b></div><div class=\"sk-container\" hidden><div class=\"sk-item sk-dashed-wrapped\"><div class=\"sk-label-container\"><div class=\"sk-label sk-toggleable\"><input class=\"sk-toggleable__control sk-hidden--visually\" id=\"sk-estimator-id-1\" type=\"checkbox\" ><label for=\"sk-estimator-id-1\" class=\"sk-toggleable__label sk-toggleable__label-arrow\">GridSearchCV</label><div class=\"sk-toggleable__content\"><pre>GridSearchCV(cv=5, estimator=GradientBoostingClassifier(random_state=5),\n",
       "             n_jobs=-1,\n",
       "             param_grid={&#x27;learning_rate&#x27;: [0.01, 0.1], &#x27;max_depth&#x27;: [3, 5],\n",
       "                         &#x27;max_features&#x27;: [&#x27;sqrt&#x27;],\n",
       "                         &#x27;min_samples_leaf&#x27;: [5, 7, 10],\n",
       "                         &#x27;min_samples_split&#x27;: [3, 5], &#x27;n_estimators&#x27;: [200]},\n",
       "             verbose=False)</pre></div></div></div><div class=\"sk-parallel\"><div class=\"sk-parallel-item\"><div class=\"sk-item\"><div class=\"sk-label-container\"><div class=\"sk-label sk-toggleable\"><input class=\"sk-toggleable__control sk-hidden--visually\" id=\"sk-estimator-id-2\" type=\"checkbox\" ><label for=\"sk-estimator-id-2\" class=\"sk-toggleable__label sk-toggleable__label-arrow\">estimator: GradientBoostingClassifier</label><div class=\"sk-toggleable__content\"><pre>GradientBoostingClassifier(random_state=5)</pre></div></div></div><div class=\"sk-serial\"><div class=\"sk-item\"><div class=\"sk-estimator sk-toggleable\"><input class=\"sk-toggleable__control sk-hidden--visually\" id=\"sk-estimator-id-3\" type=\"checkbox\" ><label for=\"sk-estimator-id-3\" class=\"sk-toggleable__label sk-toggleable__label-arrow\">GradientBoostingClassifier</label><div class=\"sk-toggleable__content\"><pre>GradientBoostingClassifier(random_state=5)</pre></div></div></div></div></div></div></div></div></div></div>"
      ],
      "text/plain": [
       "GridSearchCV(cv=5, estimator=GradientBoostingClassifier(random_state=5),\n",
       "             n_jobs=-1,\n",
       "             param_grid={'learning_rate': [0.01, 0.1], 'max_depth': [3, 5],\n",
       "                         'max_features': ['sqrt'],\n",
       "                         'min_samples_leaf': [5, 7, 10],\n",
       "                         'min_samples_split': [3, 5], 'n_estimators': [200]},\n",
       "             verbose=False)"
      ]
     },
     "execution_count": 6,
     "metadata": {},
     "output_type": "execute_result"
    }
   ],
   "source": [
    "gb_cv.fit(X_train.values, np.ravel(y_train))"
   ]
  },
  {
   "cell_type": "code",
   "execution_count": 7,
   "id": "dd19e482",
   "metadata": {
    "execution": {
     "iopub.execute_input": "2022-11-15T20:57:48.834779Z",
     "iopub.status.busy": "2022-11-15T20:57:48.834379Z",
     "iopub.status.idle": "2022-11-15T20:57:48.839511Z",
     "shell.execute_reply": "2022-11-15T20:57:48.838375Z"
    },
    "papermill": {
     "duration": 0.042096,
     "end_time": "2022-11-15T20:57:48.841803",
     "exception": false,
     "start_time": "2022-11-15T20:57:48.799707",
     "status": "completed"
    },
    "tags": []
   },
   "outputs": [],
   "source": [
    "gb = gb_cv.best_estimator_"
   ]
  },
  {
   "cell_type": "code",
   "execution_count": 8,
   "id": "f65e533f",
   "metadata": {
    "execution": {
     "iopub.execute_input": "2022-11-15T20:57:48.909900Z",
     "iopub.status.busy": "2022-11-15T20:57:48.909508Z",
     "iopub.status.idle": "2022-11-15T20:57:48.917105Z",
     "shell.execute_reply": "2022-11-15T20:57:48.915812Z"
    },
    "papermill": {
     "duration": 0.044287,
     "end_time": "2022-11-15T20:57:48.919330",
     "exception": false,
     "start_time": "2022-11-15T20:57:48.875043",
     "status": "completed"
    },
    "tags": []
   },
   "outputs": [
    {
     "data": {
      "text/html": [
       "<style>#sk-container-id-2 {color: black;background-color: white;}#sk-container-id-2 pre{padding: 0;}#sk-container-id-2 div.sk-toggleable {background-color: white;}#sk-container-id-2 label.sk-toggleable__label {cursor: pointer;display: block;width: 100%;margin-bottom: 0;padding: 0.3em;box-sizing: border-box;text-align: center;}#sk-container-id-2 label.sk-toggleable__label-arrow:before {content: \"▸\";float: left;margin-right: 0.25em;color: #696969;}#sk-container-id-2 label.sk-toggleable__label-arrow:hover:before {color: black;}#sk-container-id-2 div.sk-estimator:hover label.sk-toggleable__label-arrow:before {color: black;}#sk-container-id-2 div.sk-toggleable__content {max-height: 0;max-width: 0;overflow: hidden;text-align: left;background-color: #f0f8ff;}#sk-container-id-2 div.sk-toggleable__content pre {margin: 0.2em;color: black;border-radius: 0.25em;background-color: #f0f8ff;}#sk-container-id-2 input.sk-toggleable__control:checked~div.sk-toggleable__content {max-height: 200px;max-width: 100%;overflow: auto;}#sk-container-id-2 input.sk-toggleable__control:checked~label.sk-toggleable__label-arrow:before {content: \"▾\";}#sk-container-id-2 div.sk-estimator input.sk-toggleable__control:checked~label.sk-toggleable__label {background-color: #d4ebff;}#sk-container-id-2 div.sk-label input.sk-toggleable__control:checked~label.sk-toggleable__label {background-color: #d4ebff;}#sk-container-id-2 input.sk-hidden--visually {border: 0;clip: rect(1px 1px 1px 1px);clip: rect(1px, 1px, 1px, 1px);height: 1px;margin: -1px;overflow: hidden;padding: 0;position: absolute;width: 1px;}#sk-container-id-2 div.sk-estimator {font-family: monospace;background-color: #f0f8ff;border: 1px dotted black;border-radius: 0.25em;box-sizing: border-box;margin-bottom: 0.5em;}#sk-container-id-2 div.sk-estimator:hover {background-color: #d4ebff;}#sk-container-id-2 div.sk-parallel-item::after {content: \"\";width: 100%;border-bottom: 1px solid gray;flex-grow: 1;}#sk-container-id-2 div.sk-label:hover label.sk-toggleable__label {background-color: #d4ebff;}#sk-container-id-2 div.sk-serial::before {content: \"\";position: absolute;border-left: 1px solid gray;box-sizing: border-box;top: 0;bottom: 0;left: 50%;z-index: 0;}#sk-container-id-2 div.sk-serial {display: flex;flex-direction: column;align-items: center;background-color: white;padding-right: 0.2em;padding-left: 0.2em;position: relative;}#sk-container-id-2 div.sk-item {position: relative;z-index: 1;}#sk-container-id-2 div.sk-parallel {display: flex;align-items: stretch;justify-content: center;background-color: white;position: relative;}#sk-container-id-2 div.sk-item::before, #sk-container-id-2 div.sk-parallel-item::before {content: \"\";position: absolute;border-left: 1px solid gray;box-sizing: border-box;top: 0;bottom: 0;left: 50%;z-index: -1;}#sk-container-id-2 div.sk-parallel-item {display: flex;flex-direction: column;z-index: 1;position: relative;background-color: white;}#sk-container-id-2 div.sk-parallel-item:first-child::after {align-self: flex-end;width: 50%;}#sk-container-id-2 div.sk-parallel-item:last-child::after {align-self: flex-start;width: 50%;}#sk-container-id-2 div.sk-parallel-item:only-child::after {width: 0;}#sk-container-id-2 div.sk-dashed-wrapped {border: 1px dashed gray;margin: 0 0.4em 0.5em 0.4em;box-sizing: border-box;padding-bottom: 0.4em;background-color: white;}#sk-container-id-2 div.sk-label label {font-family: monospace;font-weight: bold;display: inline-block;line-height: 1.2em;}#sk-container-id-2 div.sk-label-container {text-align: center;}#sk-container-id-2 div.sk-container {/* jupyter's `normalize.less` sets `[hidden] { display: none; }` but bootstrap.min.css set `[hidden] { display: none !important; }` so we also need the `!important` here to be able to override the default hidden behavior on the sphinx rendered scikit-learn.org. See: https://github.com/scikit-learn/scikit-learn/issues/21755 */display: inline-block !important;position: relative;}#sk-container-id-2 div.sk-text-repr-fallback {display: none;}</style><div id=\"sk-container-id-2\" class=\"sk-top-container\"><div class=\"sk-text-repr-fallback\"><pre>GradientBoostingClassifier(learning_rate=0.01, max_depth=5, max_features=&#x27;sqrt&#x27;,\n",
       "                           min_samples_leaf=7, min_samples_split=3,\n",
       "                           n_estimators=200, random_state=5)</pre><b>In a Jupyter environment, please rerun this cell to show the HTML representation or trust the notebook. <br />On GitHub, the HTML representation is unable to render, please try loading this page with nbviewer.org.</b></div><div class=\"sk-container\" hidden><div class=\"sk-item\"><div class=\"sk-estimator sk-toggleable\"><input class=\"sk-toggleable__control sk-hidden--visually\" id=\"sk-estimator-id-4\" type=\"checkbox\" checked><label for=\"sk-estimator-id-4\" class=\"sk-toggleable__label sk-toggleable__label-arrow\">GradientBoostingClassifier</label><div class=\"sk-toggleable__content\"><pre>GradientBoostingClassifier(learning_rate=0.01, max_depth=5, max_features=&#x27;sqrt&#x27;,\n",
       "                           min_samples_leaf=7, min_samples_split=3,\n",
       "                           n_estimators=200, random_state=5)</pre></div></div></div></div></div>"
      ],
      "text/plain": [
       "GradientBoostingClassifier(learning_rate=0.01, max_depth=5, max_features='sqrt',\n",
       "                           min_samples_leaf=7, min_samples_split=3,\n",
       "                           n_estimators=200, random_state=5)"
      ]
     },
     "execution_count": 8,
     "metadata": {},
     "output_type": "execute_result"
    }
   ],
   "source": [
    "gb"
   ]
  },
  {
   "cell_type": "code",
   "execution_count": 9,
   "id": "3b66ed2b",
   "metadata": {
    "execution": {
     "iopub.execute_input": "2022-11-15T20:57:48.988879Z",
     "iopub.status.busy": "2022-11-15T20:57:48.988114Z",
     "iopub.status.idle": "2022-11-15T20:57:51.654992Z",
     "shell.execute_reply": "2022-11-15T20:57:51.654241Z"
    },
    "papermill": {
     "duration": 2.704095,
     "end_time": "2022-11-15T20:57:51.657107",
     "exception": false,
     "start_time": "2022-11-15T20:57:48.953012",
     "status": "completed"
    },
    "tags": []
   },
   "outputs": [
    {
     "data": {
      "text/html": [
       "<style>#sk-container-id-3 {color: black;background-color: white;}#sk-container-id-3 pre{padding: 0;}#sk-container-id-3 div.sk-toggleable {background-color: white;}#sk-container-id-3 label.sk-toggleable__label {cursor: pointer;display: block;width: 100%;margin-bottom: 0;padding: 0.3em;box-sizing: border-box;text-align: center;}#sk-container-id-3 label.sk-toggleable__label-arrow:before {content: \"▸\";float: left;margin-right: 0.25em;color: #696969;}#sk-container-id-3 label.sk-toggleable__label-arrow:hover:before {color: black;}#sk-container-id-3 div.sk-estimator:hover label.sk-toggleable__label-arrow:before {color: black;}#sk-container-id-3 div.sk-toggleable__content {max-height: 0;max-width: 0;overflow: hidden;text-align: left;background-color: #f0f8ff;}#sk-container-id-3 div.sk-toggleable__content pre {margin: 0.2em;color: black;border-radius: 0.25em;background-color: #f0f8ff;}#sk-container-id-3 input.sk-toggleable__control:checked~div.sk-toggleable__content {max-height: 200px;max-width: 100%;overflow: auto;}#sk-container-id-3 input.sk-toggleable__control:checked~label.sk-toggleable__label-arrow:before {content: \"▾\";}#sk-container-id-3 div.sk-estimator input.sk-toggleable__control:checked~label.sk-toggleable__label {background-color: #d4ebff;}#sk-container-id-3 div.sk-label input.sk-toggleable__control:checked~label.sk-toggleable__label {background-color: #d4ebff;}#sk-container-id-3 input.sk-hidden--visually {border: 0;clip: rect(1px 1px 1px 1px);clip: rect(1px, 1px, 1px, 1px);height: 1px;margin: -1px;overflow: hidden;padding: 0;position: absolute;width: 1px;}#sk-container-id-3 div.sk-estimator {font-family: monospace;background-color: #f0f8ff;border: 1px dotted black;border-radius: 0.25em;box-sizing: border-box;margin-bottom: 0.5em;}#sk-container-id-3 div.sk-estimator:hover {background-color: #d4ebff;}#sk-container-id-3 div.sk-parallel-item::after {content: \"\";width: 100%;border-bottom: 1px solid gray;flex-grow: 1;}#sk-container-id-3 div.sk-label:hover label.sk-toggleable__label {background-color: #d4ebff;}#sk-container-id-3 div.sk-serial::before {content: \"\";position: absolute;border-left: 1px solid gray;box-sizing: border-box;top: 0;bottom: 0;left: 50%;z-index: 0;}#sk-container-id-3 div.sk-serial {display: flex;flex-direction: column;align-items: center;background-color: white;padding-right: 0.2em;padding-left: 0.2em;position: relative;}#sk-container-id-3 div.sk-item {position: relative;z-index: 1;}#sk-container-id-3 div.sk-parallel {display: flex;align-items: stretch;justify-content: center;background-color: white;position: relative;}#sk-container-id-3 div.sk-item::before, #sk-container-id-3 div.sk-parallel-item::before {content: \"\";position: absolute;border-left: 1px solid gray;box-sizing: border-box;top: 0;bottom: 0;left: 50%;z-index: -1;}#sk-container-id-3 div.sk-parallel-item {display: flex;flex-direction: column;z-index: 1;position: relative;background-color: white;}#sk-container-id-3 div.sk-parallel-item:first-child::after {align-self: flex-end;width: 50%;}#sk-container-id-3 div.sk-parallel-item:last-child::after {align-self: flex-start;width: 50%;}#sk-container-id-3 div.sk-parallel-item:only-child::after {width: 0;}#sk-container-id-3 div.sk-dashed-wrapped {border: 1px dashed gray;margin: 0 0.4em 0.5em 0.4em;box-sizing: border-box;padding-bottom: 0.4em;background-color: white;}#sk-container-id-3 div.sk-label label {font-family: monospace;font-weight: bold;display: inline-block;line-height: 1.2em;}#sk-container-id-3 div.sk-label-container {text-align: center;}#sk-container-id-3 div.sk-container {/* jupyter's `normalize.less` sets `[hidden] { display: none; }` but bootstrap.min.css set `[hidden] { display: none !important; }` so we also need the `!important` here to be able to override the default hidden behavior on the sphinx rendered scikit-learn.org. See: https://github.com/scikit-learn/scikit-learn/issues/21755 */display: inline-block !important;position: relative;}#sk-container-id-3 div.sk-text-repr-fallback {display: none;}</style><div id=\"sk-container-id-3\" class=\"sk-top-container\"><div class=\"sk-text-repr-fallback\"><pre>GridSearchCV(cv=5, estimator=RandomForestClassifier(random_state=1), n_jobs=-1,\n",
       "             param_grid={&#x27;max_depth&#x27;: [15], &#x27;max_features&#x27;: [&#x27;sqrt&#x27;],\n",
       "                         &#x27;max_leaf_nodes&#x27;: [500], &#x27;min_samples_leaf&#x27;: [3, 5, 7],\n",
       "                         &#x27;min_samples_split&#x27;: [10, 15],\n",
       "                         &#x27;n_estimators&#x27;: [250, 500]},\n",
       "             verbose=False)</pre><b>In a Jupyter environment, please rerun this cell to show the HTML representation or trust the notebook. <br />On GitHub, the HTML representation is unable to render, please try loading this page with nbviewer.org.</b></div><div class=\"sk-container\" hidden><div class=\"sk-item sk-dashed-wrapped\"><div class=\"sk-label-container\"><div class=\"sk-label sk-toggleable\"><input class=\"sk-toggleable__control sk-hidden--visually\" id=\"sk-estimator-id-5\" type=\"checkbox\" ><label for=\"sk-estimator-id-5\" class=\"sk-toggleable__label sk-toggleable__label-arrow\">GridSearchCV</label><div class=\"sk-toggleable__content\"><pre>GridSearchCV(cv=5, estimator=RandomForestClassifier(random_state=1), n_jobs=-1,\n",
       "             param_grid={&#x27;max_depth&#x27;: [15], &#x27;max_features&#x27;: [&#x27;sqrt&#x27;],\n",
       "                         &#x27;max_leaf_nodes&#x27;: [500], &#x27;min_samples_leaf&#x27;: [3, 5, 7],\n",
       "                         &#x27;min_samples_split&#x27;: [10, 15],\n",
       "                         &#x27;n_estimators&#x27;: [250, 500]},\n",
       "             verbose=False)</pre></div></div></div><div class=\"sk-parallel\"><div class=\"sk-parallel-item\"><div class=\"sk-item\"><div class=\"sk-label-container\"><div class=\"sk-label sk-toggleable\"><input class=\"sk-toggleable__control sk-hidden--visually\" id=\"sk-estimator-id-6\" type=\"checkbox\" ><label for=\"sk-estimator-id-6\" class=\"sk-toggleable__label sk-toggleable__label-arrow\">estimator: RandomForestClassifier</label><div class=\"sk-toggleable__content\"><pre>RandomForestClassifier(random_state=1)</pre></div></div></div><div class=\"sk-serial\"><div class=\"sk-item\"><div class=\"sk-estimator sk-toggleable\"><input class=\"sk-toggleable__control sk-hidden--visually\" id=\"sk-estimator-id-7\" type=\"checkbox\" ><label for=\"sk-estimator-id-7\" class=\"sk-toggleable__label sk-toggleable__label-arrow\">RandomForestClassifier</label><div class=\"sk-toggleable__content\"><pre>RandomForestClassifier(random_state=1)</pre></div></div></div></div></div></div></div></div></div></div>"
      ],
      "text/plain": [
       "GridSearchCV(cv=5, estimator=RandomForestClassifier(random_state=1), n_jobs=-1,\n",
       "             param_grid={'max_depth': [15], 'max_features': ['sqrt'],\n",
       "                         'max_leaf_nodes': [500], 'min_samples_leaf': [3, 5, 7],\n",
       "                         'min_samples_split': [10, 15],\n",
       "                         'n_estimators': [250, 500]},\n",
       "             verbose=False)"
      ]
     },
     "execution_count": 9,
     "metadata": {},
     "output_type": "execute_result"
    }
   ],
   "source": [
    "params_rf = {\"max_depth\": [15],\n",
    "                \"min_samples_split\": [10, 15],\n",
    "                \"max_leaf_nodes\": [500],\n",
    "                \"min_samples_leaf\": [3, 5, 7],\n",
    "                \"n_estimators\": [250, 500],\n",
    "                 \"max_features\": [\"sqrt\"],\n",
    "                }\n",
    "\n",
    "rf = RandomForestClassifier(random_state=1)\n",
    "\n",
    "rf_cv = GridSearchCV(rf, params_rf, cv = 5, n_jobs = -1, verbose = False)\n",
    "\n",
    "rf_cv.fit(X_train.values, np.ravel(y_train))"
   ]
  },
  {
   "cell_type": "code",
   "execution_count": 10,
   "id": "0e8485d6",
   "metadata": {
    "execution": {
     "iopub.execute_input": "2022-11-15T20:57:51.726203Z",
     "iopub.status.busy": "2022-11-15T20:57:51.725731Z",
     "iopub.status.idle": "2022-11-15T20:57:51.729956Z",
     "shell.execute_reply": "2022-11-15T20:57:51.729060Z"
    },
    "papermill": {
     "duration": 0.041586,
     "end_time": "2022-11-15T20:57:51.732183",
     "exception": false,
     "start_time": "2022-11-15T20:57:51.690597",
     "status": "completed"
    },
    "tags": []
   },
   "outputs": [],
   "source": [
    "rf = rf_cv.best_estimator_"
   ]
  },
  {
   "cell_type": "code",
   "execution_count": 11,
   "id": "1053c24f",
   "metadata": {},
   "outputs": [
    {
     "data": {
      "text/html": [
       "<style>#sk-container-id-4 {color: black;background-color: white;}#sk-container-id-4 pre{padding: 0;}#sk-container-id-4 div.sk-toggleable {background-color: white;}#sk-container-id-4 label.sk-toggleable__label {cursor: pointer;display: block;width: 100%;margin-bottom: 0;padding: 0.3em;box-sizing: border-box;text-align: center;}#sk-container-id-4 label.sk-toggleable__label-arrow:before {content: \"▸\";float: left;margin-right: 0.25em;color: #696969;}#sk-container-id-4 label.sk-toggleable__label-arrow:hover:before {color: black;}#sk-container-id-4 div.sk-estimator:hover label.sk-toggleable__label-arrow:before {color: black;}#sk-container-id-4 div.sk-toggleable__content {max-height: 0;max-width: 0;overflow: hidden;text-align: left;background-color: #f0f8ff;}#sk-container-id-4 div.sk-toggleable__content pre {margin: 0.2em;color: black;border-radius: 0.25em;background-color: #f0f8ff;}#sk-container-id-4 input.sk-toggleable__control:checked~div.sk-toggleable__content {max-height: 200px;max-width: 100%;overflow: auto;}#sk-container-id-4 input.sk-toggleable__control:checked~label.sk-toggleable__label-arrow:before {content: \"▾\";}#sk-container-id-4 div.sk-estimator input.sk-toggleable__control:checked~label.sk-toggleable__label {background-color: #d4ebff;}#sk-container-id-4 div.sk-label input.sk-toggleable__control:checked~label.sk-toggleable__label {background-color: #d4ebff;}#sk-container-id-4 input.sk-hidden--visually {border: 0;clip: rect(1px 1px 1px 1px);clip: rect(1px, 1px, 1px, 1px);height: 1px;margin: -1px;overflow: hidden;padding: 0;position: absolute;width: 1px;}#sk-container-id-4 div.sk-estimator {font-family: monospace;background-color: #f0f8ff;border: 1px dotted black;border-radius: 0.25em;box-sizing: border-box;margin-bottom: 0.5em;}#sk-container-id-4 div.sk-estimator:hover {background-color: #d4ebff;}#sk-container-id-4 div.sk-parallel-item::after {content: \"\";width: 100%;border-bottom: 1px solid gray;flex-grow: 1;}#sk-container-id-4 div.sk-label:hover label.sk-toggleable__label {background-color: #d4ebff;}#sk-container-id-4 div.sk-serial::before {content: \"\";position: absolute;border-left: 1px solid gray;box-sizing: border-box;top: 0;bottom: 0;left: 50%;z-index: 0;}#sk-container-id-4 div.sk-serial {display: flex;flex-direction: column;align-items: center;background-color: white;padding-right: 0.2em;padding-left: 0.2em;position: relative;}#sk-container-id-4 div.sk-item {position: relative;z-index: 1;}#sk-container-id-4 div.sk-parallel {display: flex;align-items: stretch;justify-content: center;background-color: white;position: relative;}#sk-container-id-4 div.sk-item::before, #sk-container-id-4 div.sk-parallel-item::before {content: \"\";position: absolute;border-left: 1px solid gray;box-sizing: border-box;top: 0;bottom: 0;left: 50%;z-index: -1;}#sk-container-id-4 div.sk-parallel-item {display: flex;flex-direction: column;z-index: 1;position: relative;background-color: white;}#sk-container-id-4 div.sk-parallel-item:first-child::after {align-self: flex-end;width: 50%;}#sk-container-id-4 div.sk-parallel-item:last-child::after {align-self: flex-start;width: 50%;}#sk-container-id-4 div.sk-parallel-item:only-child::after {width: 0;}#sk-container-id-4 div.sk-dashed-wrapped {border: 1px dashed gray;margin: 0 0.4em 0.5em 0.4em;box-sizing: border-box;padding-bottom: 0.4em;background-color: white;}#sk-container-id-4 div.sk-label label {font-family: monospace;font-weight: bold;display: inline-block;line-height: 1.2em;}#sk-container-id-4 div.sk-label-container {text-align: center;}#sk-container-id-4 div.sk-container {/* jupyter's `normalize.less` sets `[hidden] { display: none; }` but bootstrap.min.css set `[hidden] { display: none !important; }` so we also need the `!important` here to be able to override the default hidden behavior on the sphinx rendered scikit-learn.org. See: https://github.com/scikit-learn/scikit-learn/issues/21755 */display: inline-block !important;position: relative;}#sk-container-id-4 div.sk-text-repr-fallback {display: none;}</style><div id=\"sk-container-id-4\" class=\"sk-top-container\"><div class=\"sk-text-repr-fallback\"><pre>RandomForestClassifier(max_depth=15, max_leaf_nodes=500, min_samples_leaf=7,\n",
       "                       min_samples_split=15, n_estimators=500, random_state=1)</pre><b>In a Jupyter environment, please rerun this cell to show the HTML representation or trust the notebook. <br />On GitHub, the HTML representation is unable to render, please try loading this page with nbviewer.org.</b></div><div class=\"sk-container\" hidden><div class=\"sk-item\"><div class=\"sk-estimator sk-toggleable\"><input class=\"sk-toggleable__control sk-hidden--visually\" id=\"sk-estimator-id-8\" type=\"checkbox\" checked><label for=\"sk-estimator-id-8\" class=\"sk-toggleable__label sk-toggleable__label-arrow\">RandomForestClassifier</label><div class=\"sk-toggleable__content\"><pre>RandomForestClassifier(max_depth=15, max_leaf_nodes=500, min_samples_leaf=7,\n",
       "                       min_samples_split=15, n_estimators=500, random_state=1)</pre></div></div></div></div></div>"
      ],
      "text/plain": [
       "RandomForestClassifier(max_depth=15, max_leaf_nodes=500, min_samples_leaf=7,\n",
       "                       min_samples_split=15, n_estimators=500, random_state=1)"
      ]
     },
     "execution_count": 11,
     "metadata": {},
     "output_type": "execute_result"
    }
   ],
   "source": [
    "rf"
   ]
  },
  {
   "cell_type": "code",
   "execution_count": 12,
   "id": "2c6926b5",
   "metadata": {},
   "outputs": [
    {
     "name": "stderr",
     "output_type": "stream",
     "text": [
      "e:\\repos\\FIFA_WC_22_Predictions\\venv\\lib\\site-packages\\sklearn\\model_selection\\_validation.py:378: FitFailedWarning: \n",
      "35 fits failed out of a total of 70.\n",
      "The score on these train-test partitions for these parameters will be set to nan.\n",
      "If these failures are not expected, you can try to debug them by setting error_score='raise'.\n",
      "\n",
      "Below are more details about the failures:\n",
      "--------------------------------------------------------------------------------\n",
      "35 fits failed with the following error:\n",
      "Traceback (most recent call last):\n",
      "  File \"e:\\repos\\FIFA_WC_22_Predictions\\venv\\lib\\site-packages\\sklearn\\model_selection\\_validation.py\", line 686, in _fit_and_score\n",
      "    estimator.fit(X_train, y_train, **fit_params)\n",
      "  File \"e:\\repos\\FIFA_WC_22_Predictions\\venv\\lib\\site-packages\\sklearn\\linear_model\\_logistic.py\", line 1091, in fit\n",
      "    solver = _check_solver(self.solver, self.penalty, self.dual)\n",
      "  File \"e:\\repos\\FIFA_WC_22_Predictions\\venv\\lib\\site-packages\\sklearn\\linear_model\\_logistic.py\", line 61, in _check_solver\n",
      "    raise ValueError(\n",
      "ValueError: Solver lbfgs supports only 'l2' or 'none' penalties, got l1 penalty.\n",
      "\n",
      "  warnings.warn(some_fits_failed_message, FitFailedWarning)\n",
      "e:\\repos\\FIFA_WC_22_Predictions\\venv\\lib\\site-packages\\sklearn\\model_selection\\_search.py:953: UserWarning: One or more of the test scores are non-finite: [       nan 0.76427106        nan 0.76374475        nan 0.76427664\n",
      "        nan 0.76110343        nan 0.76374614        nan 0.76322123\n",
      "        nan 0.76374614]\n",
      "  warnings.warn(\n",
      "e:\\repos\\FIFA_WC_22_Predictions\\venv\\lib\\site-packages\\sklearn\\linear_model\\_logistic.py:444: ConvergenceWarning: lbfgs failed to converge (status=1):\n",
      "STOP: TOTAL NO. of ITERATIONS REACHED LIMIT.\n",
      "\n",
      "Increase the number of iterations (max_iter) or scale the data as shown in:\n",
      "    https://scikit-learn.org/stable/modules/preprocessing.html\n",
      "Please also refer to the documentation for alternative solver options:\n",
      "    https://scikit-learn.org/stable/modules/linear_model.html#logistic-regression\n",
      "  n_iter_i = _check_optimize_result(\n"
     ]
    },
    {
     "data": {
      "text/html": [
       "<style>#sk-container-id-5 {color: black;background-color: white;}#sk-container-id-5 pre{padding: 0;}#sk-container-id-5 div.sk-toggleable {background-color: white;}#sk-container-id-5 label.sk-toggleable__label {cursor: pointer;display: block;width: 100%;margin-bottom: 0;padding: 0.3em;box-sizing: border-box;text-align: center;}#sk-container-id-5 label.sk-toggleable__label-arrow:before {content: \"▸\";float: left;margin-right: 0.25em;color: #696969;}#sk-container-id-5 label.sk-toggleable__label-arrow:hover:before {color: black;}#sk-container-id-5 div.sk-estimator:hover label.sk-toggleable__label-arrow:before {color: black;}#sk-container-id-5 div.sk-toggleable__content {max-height: 0;max-width: 0;overflow: hidden;text-align: left;background-color: #f0f8ff;}#sk-container-id-5 div.sk-toggleable__content pre {margin: 0.2em;color: black;border-radius: 0.25em;background-color: #f0f8ff;}#sk-container-id-5 input.sk-toggleable__control:checked~div.sk-toggleable__content {max-height: 200px;max-width: 100%;overflow: auto;}#sk-container-id-5 input.sk-toggleable__control:checked~label.sk-toggleable__label-arrow:before {content: \"▾\";}#sk-container-id-5 div.sk-estimator input.sk-toggleable__control:checked~label.sk-toggleable__label {background-color: #d4ebff;}#sk-container-id-5 div.sk-label input.sk-toggleable__control:checked~label.sk-toggleable__label {background-color: #d4ebff;}#sk-container-id-5 input.sk-hidden--visually {border: 0;clip: rect(1px 1px 1px 1px);clip: rect(1px, 1px, 1px, 1px);height: 1px;margin: -1px;overflow: hidden;padding: 0;position: absolute;width: 1px;}#sk-container-id-5 div.sk-estimator {font-family: monospace;background-color: #f0f8ff;border: 1px dotted black;border-radius: 0.25em;box-sizing: border-box;margin-bottom: 0.5em;}#sk-container-id-5 div.sk-estimator:hover {background-color: #d4ebff;}#sk-container-id-5 div.sk-parallel-item::after {content: \"\";width: 100%;border-bottom: 1px solid gray;flex-grow: 1;}#sk-container-id-5 div.sk-label:hover label.sk-toggleable__label {background-color: #d4ebff;}#sk-container-id-5 div.sk-serial::before {content: \"\";position: absolute;border-left: 1px solid gray;box-sizing: border-box;top: 0;bottom: 0;left: 50%;z-index: 0;}#sk-container-id-5 div.sk-serial {display: flex;flex-direction: column;align-items: center;background-color: white;padding-right: 0.2em;padding-left: 0.2em;position: relative;}#sk-container-id-5 div.sk-item {position: relative;z-index: 1;}#sk-container-id-5 div.sk-parallel {display: flex;align-items: stretch;justify-content: center;background-color: white;position: relative;}#sk-container-id-5 div.sk-item::before, #sk-container-id-5 div.sk-parallel-item::before {content: \"\";position: absolute;border-left: 1px solid gray;box-sizing: border-box;top: 0;bottom: 0;left: 50%;z-index: -1;}#sk-container-id-5 div.sk-parallel-item {display: flex;flex-direction: column;z-index: 1;position: relative;background-color: white;}#sk-container-id-5 div.sk-parallel-item:first-child::after {align-self: flex-end;width: 50%;}#sk-container-id-5 div.sk-parallel-item:last-child::after {align-self: flex-start;width: 50%;}#sk-container-id-5 div.sk-parallel-item:only-child::after {width: 0;}#sk-container-id-5 div.sk-dashed-wrapped {border: 1px dashed gray;margin: 0 0.4em 0.5em 0.4em;box-sizing: border-box;padding-bottom: 0.4em;background-color: white;}#sk-container-id-5 div.sk-label label {font-family: monospace;font-weight: bold;display: inline-block;line-height: 1.2em;}#sk-container-id-5 div.sk-label-container {text-align: center;}#sk-container-id-5 div.sk-container {/* jupyter's `normalize.less` sets `[hidden] { display: none; }` but bootstrap.min.css set `[hidden] { display: none !important; }` so we also need the `!important` here to be able to override the default hidden behavior on the sphinx rendered scikit-learn.org. See: https://github.com/scikit-learn/scikit-learn/issues/21755 */display: inline-block !important;position: relative;}#sk-container-id-5 div.sk-text-repr-fallback {display: none;}</style><div id=\"sk-container-id-5\" class=\"sk-top-container\"><div class=\"sk-text-repr-fallback\"><pre>GridSearchCV(cv=5, estimator=LogisticRegression(), n_jobs=-1,\n",
       "             param_grid={&#x27;C&#x27;: array([1.e-03, 1.e-02, 1.e-01, 1.e+00, 1.e+01, 1.e+02, 1.e+03]),\n",
       "                         &#x27;penalty&#x27;: [&#x27;l1&#x27;, &#x27;l2&#x27;]},\n",
       "             verbose=False)</pre><b>In a Jupyter environment, please rerun this cell to show the HTML representation or trust the notebook. <br />On GitHub, the HTML representation is unable to render, please try loading this page with nbviewer.org.</b></div><div class=\"sk-container\" hidden><div class=\"sk-item sk-dashed-wrapped\"><div class=\"sk-label-container\"><div class=\"sk-label sk-toggleable\"><input class=\"sk-toggleable__control sk-hidden--visually\" id=\"sk-estimator-id-9\" type=\"checkbox\" ><label for=\"sk-estimator-id-9\" class=\"sk-toggleable__label sk-toggleable__label-arrow\">GridSearchCV</label><div class=\"sk-toggleable__content\"><pre>GridSearchCV(cv=5, estimator=LogisticRegression(), n_jobs=-1,\n",
       "             param_grid={&#x27;C&#x27;: array([1.e-03, 1.e-02, 1.e-01, 1.e+00, 1.e+01, 1.e+02, 1.e+03]),\n",
       "                         &#x27;penalty&#x27;: [&#x27;l1&#x27;, &#x27;l2&#x27;]},\n",
       "             verbose=False)</pre></div></div></div><div class=\"sk-parallel\"><div class=\"sk-parallel-item\"><div class=\"sk-item\"><div class=\"sk-label-container\"><div class=\"sk-label sk-toggleable\"><input class=\"sk-toggleable__control sk-hidden--visually\" id=\"sk-estimator-id-10\" type=\"checkbox\" ><label for=\"sk-estimator-id-10\" class=\"sk-toggleable__label sk-toggleable__label-arrow\">estimator: LogisticRegression</label><div class=\"sk-toggleable__content\"><pre>LogisticRegression()</pre></div></div></div><div class=\"sk-serial\"><div class=\"sk-item\"><div class=\"sk-estimator sk-toggleable\"><input class=\"sk-toggleable__control sk-hidden--visually\" id=\"sk-estimator-id-11\" type=\"checkbox\" ><label for=\"sk-estimator-id-11\" class=\"sk-toggleable__label sk-toggleable__label-arrow\">LogisticRegression</label><div class=\"sk-toggleable__content\"><pre>LogisticRegression()</pre></div></div></div></div></div></div></div></div></div></div>"
      ],
      "text/plain": [
       "GridSearchCV(cv=5, estimator=LogisticRegression(), n_jobs=-1,\n",
       "             param_grid={'C': array([1.e-03, 1.e-02, 1.e-01, 1.e+00, 1.e+01, 1.e+02, 1.e+03]),\n",
       "                         'penalty': ['l1', 'l2']},\n",
       "             verbose=False)"
      ]
     },
     "execution_count": 12,
     "metadata": {},
     "output_type": "execute_result"
    }
   ],
   "source": [
    "params_rlog = {\"C\":np.logspace(-3,3,7), \"penalty\":[\"l1\",\"l2\"]}# l1 lasso l2 ridge\n",
    "rlog = LogisticRegression()\n",
    "logreg_cv = GridSearchCV(rlog, params_rlog, cv=5, n_jobs = -1, verbose = False)\n",
    "logreg_cv.fit(X_train.values, np.ravel(y_train))"
   ]
  },
  {
   "cell_type": "code",
   "execution_count": 13,
   "id": "b62ea658",
   "metadata": {},
   "outputs": [],
   "source": [
    "rlog = logreg_cv.best_estimator_"
   ]
  },
  {
   "cell_type": "code",
   "execution_count": 14,
   "id": "af42d53f",
   "metadata": {},
   "outputs": [],
   "source": [
    "# # Predicting the Test set results\n",
    "# y_pred = rf.predict(X_test)\n",
    "# #Reverse factorize (converting y_pred from 0s,1s and 2s to Iris-setosa, Iris-versicolor and Iris-virginica\n",
    "# # reversefactor = dict(zip(range(3),definitions))\n",
    "# # y_test = np.vectorize(reversefactor.get)(y_test)\n",
    "# # y_pred = np.vectorize(reversefactor.get)(y_pred)\n",
    "# # Making the Confusion Matrix\n",
    "# pd.crosstab(np.ravel(y_test), y_pred)"
   ]
  },
  {
   "cell_type": "code",
   "execution_count": null,
   "id": "1899e12f",
   "metadata": {
    "execution": {
     "iopub.execute_input": "2022-11-15T20:57:51.801813Z",
     "iopub.status.busy": "2022-11-15T20:57:51.801169Z",
     "iopub.status.idle": "2022-11-15T20:57:51.805484Z",
     "shell.execute_reply": "2022-11-15T20:57:51.804575Z"
    },
    "papermill": {
     "duration": 0.041223,
     "end_time": "2022-11-15T20:57:51.807626",
     "exception": false,
     "start_time": "2022-11-15T20:57:51.766403",
     "status": "completed"
    },
    "tags": []
   },
   "outputs": [],
   "source": []
  },
  {
   "cell_type": "code",
   "execution_count": 15,
   "id": "b5043bfa",
   "metadata": {
    "execution": {
     "iopub.execute_input": "2022-11-15T20:57:51.875953Z",
     "iopub.status.busy": "2022-11-15T20:57:51.875356Z",
     "iopub.status.idle": "2022-11-15T20:57:51.883606Z",
     "shell.execute_reply": "2022-11-15T20:57:51.882790Z"
    },
    "papermill": {
     "duration": 0.04514,
     "end_time": "2022-11-15T20:57:51.885794",
     "exception": false,
     "start_time": "2022-11-15T20:57:51.840654",
     "status": "completed"
    },
    "tags": []
   },
   "outputs": [],
   "source": [
    "def analyze(model):\n",
    "    fpr, tpr, _ = roc_curve(y_test, model.predict_proba(X_test.values)[:,1]) #test AUC\n",
    "    plt.figure(figsize=(15,10))\n",
    "    plt.plot([0, 1], [0, 1], 'k--')\n",
    "    plt.plot(fpr, tpr, label=\"test\")\n",
    "\n",
    "    fpr_train, tpr_train, _ = roc_curve(y_train, model.predict_proba(X_train.values)[:,1]) #train AUC\n",
    "    plt.plot(fpr_train, tpr_train, label=\"train\")\n",
    "    auc_test = roc_auc_score(y_test, model.predict_proba(X_test.values)[:,1])\n",
    "    auc_train = roc_auc_score(y_train, model.predict_proba(X_train.values)[:,1])\n",
    "    plt.legend()\n",
    "    plt.title('AUC score is %.2f on test and %.2f on training'%(auc_test, auc_train))\n",
    "    plt.show()\n",
    "    \n",
    "    plt.figure(figsize=(15, 10))\n",
    "    cm = confusion_matrix(y_test, model.predict(X_test.values))\n",
    "    sns.heatmap(cm, annot=True, fmt=\"d\")"
   ]
  },
  {
   "cell_type": "code",
   "execution_count": 16,
   "id": "30904082",
   "metadata": {
    "execution": {
     "iopub.execute_input": "2022-11-15T20:57:51.953651Z",
     "iopub.status.busy": "2022-11-15T20:57:51.953172Z",
     "iopub.status.idle": "2022-11-15T20:57:52.537413Z",
     "shell.execute_reply": "2022-11-15T20:57:52.536250Z"
    },
    "papermill": {
     "duration": 0.620964,
     "end_time": "2022-11-15T20:57:52.540000",
     "exception": false,
     "start_time": "2022-11-15T20:57:51.919036",
     "status": "completed"
    },
    "tags": []
   },
   "outputs": [
    {
     "data": {
      "image/png": "[encoded data removed]",
      "text/plain": [
       "<Figure size 1500x1000 with 1 Axes>"
      ]
     },
     "metadata": {},
     "output_type": "display_data"
    },
    {
     "data": {
      "image/png": "[encoded data removed]",
      "text/plain": [
       "<Figure size 1500x1000 with 2 Axes>"
      ]
     },
     "metadata": {},
     "output_type": "display_data"
    }
   ],
   "source": [
    "analyze(gb)"
   ]
  },
  {
   "cell_type": "code",
   "execution_count": 17,
   "id": "0d01da96",
   "metadata": {
    "execution": {
     "iopub.execute_input": "2022-11-15T20:57:52.611333Z",
     "iopub.status.busy": "2022-11-15T20:57:52.610866Z",
     "iopub.status.idle": "2022-11-15T20:57:53.586679Z",
     "shell.execute_reply": "2022-11-15T20:57:53.585494Z"
    },
    "papermill": {
     "duration": 1.014437,
     "end_time": "2022-11-15T20:57:53.589342",
     "exception": false,
     "start_time": "2022-11-15T20:57:52.574905",
     "status": "completed"
    },
    "tags": []
   },
   "outputs": [
    {
     "data": {
      "image/png": "[encoded data removed]",
      "text/plain": [
       "<Figure size 1500x1000 with 1 Axes>"
      ]
     },
     "metadata": {},
     "output_type": "display_data"
    },
    {
     "data": {
      "image/png": "[encoded data removed]",
      "text/plain": [
       "<Figure size 1500x1000 with 2 Axes>"
      ]
     },
     "metadata": {},
     "output_type": "display_data"
    }
   ],
   "source": [
    "analyze(rf)"
   ]
  },
  {
   "cell_type": "code",
   "execution_count": 18,
   "id": "ca4f7c0a",
   "metadata": {},
   "outputs": [
    {
     "data": {
      "image/png": "[encoded data removed]",
      "text/plain": [
       "<Figure size 1500x1000 with 1 Axes>"
      ]
     },
     "metadata": {},
     "output_type": "display_data"
    },
    {
     "data": {
      "image/png": "[encoded data removed]",
      "text/plain": [
       "<Figure size 1500x1000 with 2 Axes>"
      ]
     },
     "metadata": {},
     "output_type": "display_data"
    }
   ],
   "source": [
    "analyze(rlog)"
   ]
  },
  {
   "cell_type": "markdown",
   "id": "3531d847",
   "metadata": {
    "papermill": {
     "duration": 0.03478,
     "end_time": "2022-11-15T20:57:53.660822",
     "exception": false,
     "start_time": "2022-11-15T20:57:53.626042",
     "status": "completed"
    },
    "tags": []
   },
   "source": [
    "The Random Forest model is a little bit better but seems to underfit. So, we will use the Gradient Boosting Model."
   ]
  },
  {
   "cell_type": "markdown",
   "id": "0c9c5017",
   "metadata": {
    "papermill": {
     "duration": 0.034803,
     "end_time": "2022-11-15T20:57:53.809705",
     "exception": false,
     "start_time": "2022-11-15T20:57:53.774902",
     "status": "completed"
    },
    "tags": []
   },
   "source": [
    "# Simulação da Copa"
   ]
  },
  {
   "cell_type": "markdown",
   "id": "3479a93e",
   "metadata": {},
   "source": [
    "Para podermos simularmos os jogos, primeiramente vamos realizar um Web Scraping do Wikipédia para conseguirmos pegar os grupos, times e partidas da primeira fase. "
   ]
  },
  {
   "cell_type": "code",
   "execution_count": 19,
   "id": "b1aa3726",
   "metadata": {
    "execution": {
     "iopub.execute_input": "2022-11-15T20:57:53.881869Z",
     "iopub.status.busy": "2022-11-15T20:57:53.881069Z",
     "iopub.status.idle": "2022-11-15T20:57:55.029574Z",
     "shell.execute_reply": "2022-11-15T20:57:55.028117Z"
    },
    "papermill": {
     "duration": 1.18838,
     "end_time": "2022-11-15T20:57:55.032960",
     "exception": false,
     "start_time": "2022-11-15T20:57:53.844580",
     "status": "completed"
    },
    "tags": []
   },
   "outputs": [],
   "source": [
    "dfs = pd.read_html(r\"https://en.wikipedia.org/wiki/2022_FIFA_World_Cup#Teams\")"
   ]
  },
  {
   "cell_type": "code",
   "execution_count": 20,
   "id": "8606cc5e",
   "metadata": {},
   "outputs": [
    {
     "data": {
      "text/html": [
       "<div>\n",
       "<style scoped>\n",
       "    .dataframe tbody tr th:only-of-type {\n",
       "        vertical-align: middle;\n",
       "    }\n",
       "\n",
       "    .dataframe tbody tr th {\n",
       "        vertical-align: top;\n",
       "    }\n",
       "\n",
       "    .dataframe thead th {\n",
       "        text-align: right;\n",
       "    }\n",
       "</style>\n",
       "<table border=\"1\" class=\"dataframe\">\n",
       "  <thead>\n",
       "    <tr style=\"text-align: right;\">\n",
       "      <th></th>\n",
       "      <th>Pos</th>\n",
       "      <th>Team.mw-parser-output .navbar{display:inline;font-size:88%;font-weight:normal}.mw-parser-output .navbar-collapse{float:left;text-align:left}.mw-parser-output .navbar-boxtext{word-spacing:0}.mw-parser-output .navbar ul{display:inline-block;white-space:nowrap;line-height:inherit}.mw-parser-output .navbar-brackets::before{margin-right:-0.125em;content:\"[ \"}.mw-parser-output .navbar-brackets::after{margin-left:-0.125em;content:\" ]\"}.mw-parser-output .navbar li{word-spacing:-0.125em}.mw-parser-output .navbar a&gt;span,.mw-parser-output .navbar a&gt;abbr{text-decoration:inherit}.mw-parser-output .navbar-mini abbr{font-variant:small-caps;border-bottom:none;text-decoration:none;cursor:inherit}.mw-parser-output .navbar-ct-full{font-size:114%;margin:0 7em}.mw-parser-output .navbar-ct-mini{font-size:114%;margin:0 4em}vte</th>\n",
       "      <th>Pld</th>\n",
       "      <th>W</th>\n",
       "      <th>D</th>\n",
       "      <th>L</th>\n",
       "      <th>GF</th>\n",
       "      <th>GA</th>\n",
       "      <th>GD</th>\n",
       "      <th>Pts</th>\n",
       "      <th>Qualification</th>\n",
       "    </tr>\n",
       "  </thead>\n",
       "  <tbody>\n",
       "    <tr>\n",
       "      <th>0</th>\n",
       "      <td>1</td>\n",
       "      <td>Netherlands</td>\n",
       "      <td>1</td>\n",
       "      <td>1</td>\n",
       "      <td>0</td>\n",
       "      <td>0</td>\n",
       "      <td>2</td>\n",
       "      <td>0</td>\n",
       "      <td>+2</td>\n",
       "      <td>3[a]</td>\n",
       "      <td>Advance to knockout stage</td>\n",
       "    </tr>\n",
       "    <tr>\n",
       "      <th>1</th>\n",
       "      <td>2</td>\n",
       "      <td>Ecuador</td>\n",
       "      <td>1</td>\n",
       "      <td>1</td>\n",
       "      <td>0</td>\n",
       "      <td>0</td>\n",
       "      <td>2</td>\n",
       "      <td>0</td>\n",
       "      <td>+2</td>\n",
       "      <td>3[a]</td>\n",
       "      <td>Advance to knockout stage</td>\n",
       "    </tr>\n",
       "    <tr>\n",
       "      <th>2</th>\n",
       "      <td>3</td>\n",
       "      <td>Senegal</td>\n",
       "      <td>1</td>\n",
       "      <td>0</td>\n",
       "      <td>0</td>\n",
       "      <td>1</td>\n",
       "      <td>0</td>\n",
       "      <td>2</td>\n",
       "      <td>−2</td>\n",
       "      <td>0[b]</td>\n",
       "      <td>NaN</td>\n",
       "    </tr>\n",
       "    <tr>\n",
       "      <th>3</th>\n",
       "      <td>4</td>\n",
       "      <td>Qatar (H)</td>\n",
       "      <td>1</td>\n",
       "      <td>0</td>\n",
       "      <td>0</td>\n",
       "      <td>1</td>\n",
       "      <td>0</td>\n",
       "      <td>2</td>\n",
       "      <td>−2</td>\n",
       "      <td>0[b]</td>\n",
       "      <td>NaN</td>\n",
       "    </tr>\n",
       "  </tbody>\n",
       "</table>\n",
       "</div>"
      ],
      "text/plain": [
       "   Pos  \\\n",
       "0    1   \n",
       "1    2   \n",
       "2    3   \n",
       "3    4   \n",
       "\n",
       "  Team.mw-parser-output .navbar{display:inline;font-size:88%;font-weight:normal}.mw-parser-output .navbar-collapse{float:left;text-align:left}.mw-parser-output .navbar-boxtext{word-spacing:0}.mw-parser-output .navbar ul{display:inline-block;white-space:nowrap;line-height:inherit}.mw-parser-output .navbar-brackets::before{margin-right:-0.125em;content:\"[ \"}.mw-parser-output .navbar-brackets::after{margin-left:-0.125em;content:\" ]\"}.mw-parser-output .navbar li{word-spacing:-0.125em}.mw-parser-output .navbar a>span,.mw-parser-output .navbar a>abbr{text-decoration:inherit}.mw-parser-output .navbar-mini abbr{font-variant:small-caps;border-bottom:none;text-decoration:none;cursor:inherit}.mw-parser-output .navbar-ct-full{font-size:114%;margin:0 7em}.mw-parser-output .navbar-ct-mini{font-size:114%;margin:0 4em}vte  \\\n",
       "0                                        Netherlands                                                                                                                                                                                                                                                                                                                                                                                                                                                                                                                                                                                                                                                                                                                                                                                                \n",
       "1                                            Ecuador                                                                                                                                                                                                                                                                                                                                                                                                                                                                                                                                                                                                                                                                                                                                                                                                \n",
       "2                                            Senegal                                                                                                                                                                                                                                                                                                                                                                                                                                                                                                                                                                                                                                                                                                                                                                                                \n",
       "3                                          Qatar (H)                                                                                                                                                                                                                                                                                                                                                                                                                                                                                                                                                                                                                                                                                                                                                                                                \n",
       "\n",
       "   Pld  W  D  L  GF  GA  GD   Pts              Qualification  \n",
       "0    1  1  0  0   2   0  +2  3[a]  Advance to knockout stage  \n",
       "1    1  1  0  0   2   0  +2  3[a]  Advance to knockout stage  \n",
       "2    1  0  0  1   0   2  −2  0[b]                        NaN  \n",
       "3    1  0  0  1   0   2  −2  0[b]                        NaN  "
      ]
     },
     "execution_count": 20,
     "metadata": {},
     "output_type": "execute_result"
    }
   ],
   "source": [
    "dfs[13]"
   ]
  },
  {
   "cell_type": "code",
   "execution_count": 21,
   "id": "204dfbfa",
   "metadata": {
    "execution": {
     "iopub.execute_input": "2022-11-15T20:57:55.113121Z",
     "iopub.status.busy": "2022-11-15T20:57:55.111836Z",
     "iopub.status.idle": "2022-11-15T20:57:55.125934Z",
     "shell.execute_reply": "2022-11-15T20:57:55.124802Z"
    },
    "papermill": {
     "duration": 0.057528,
     "end_time": "2022-11-15T20:57:55.128735",
     "exception": false,
     "start_time": "2022-11-15T20:57:55.071207",
     "status": "completed"
    },
    "tags": []
   },
   "outputs": [],
   "source": [
    "matches = []\n",
    "groups = [\"A\", \"B\", \"C\", \"D\", \"E\", \"F\", \"G\", \"H\"]\n",
    "group_count = 0 \n",
    "\n",
    "table = {}\n",
    "#TABLE -> TEAM, POINTS, WIN PROBS (CRITERIO DE DESEMPATE)\n",
    "table[groups[group_count]] = [[a.split(\" \")[0], 0, []] for a in list(dfs[13].iloc[:, 1].values)]"
   ]
  },
  {
   "cell_type": "code",
   "execution_count": 22,
   "id": "0e9706cd",
   "metadata": {},
   "outputs": [],
   "source": [
    "for i in range(14, 69, 1):\n",
    "    if len(dfs[i].columns) == 3:\n",
    "        team_1 = dfs[i].columns.values[0]\n",
    "        team_2 = dfs[i].columns.values[-1]\n",
    "        matches.append((groups[group_count], team_1, team_2))\n",
    "    else:\n",
    "        group_count+=1\n",
    "        table[groups[group_count]] = [[a, 0, []] for a in list(dfs[i].iloc[:, 1].values)]"
   ]
  },
  {
   "cell_type": "code",
   "execution_count": 23,
   "id": "117684c0",
   "metadata": {},
   "outputs": [],
   "source": [
    "import copy"
   ]
  },
  {
   "cell_type": "code",
   "execution_count": 24,
   "id": "c630b6e7",
   "metadata": {},
   "outputs": [],
   "source": [
    "table_rf = copy.deepcopy(table)\n",
    "table_rlog = copy.deepcopy(table)"
   ]
  },
  {
   "cell_type": "markdown",
   "id": "94a87442",
   "metadata": {},
   "source": [
    "Com a construção do grupo e os participante, é possível armazenar os pontos dos times e a probabilidade de ganhar cada jogo. \n",
    "\n",
    "Caso exista empate nos pontos, a probabilidade de vencer vai ser usada como desempate (na realidade, é a verdadeira métrica para avanço)."
   ]
  },
  {
   "cell_type": "code",
   "execution_count": 25,
   "id": "304f19cc",
   "metadata": {
    "execution": {
     "iopub.execute_input": "2022-11-15T20:57:55.392347Z",
     "iopub.status.busy": "2022-11-15T20:57:55.391562Z",
     "iopub.status.idle": "2022-11-15T20:57:55.399338Z",
     "shell.execute_reply": "2022-11-15T20:57:55.398358Z"
    },
    "papermill": {
     "duration": 0.047406,
     "end_time": "2022-11-15T20:57:55.401534",
     "exception": false,
     "start_time": "2022-11-15T20:57:55.354128",
     "status": "completed"
    },
    "tags": []
   },
   "outputs": [
    {
     "data": {
      "text/plain": [
       "[('A', 'Qatar', 'Ecuador'),\n",
       " ('A', 'Senegal', 'Netherlands'),\n",
       " ('A', 'Qatar', 'Senegal'),\n",
       " ('A', 'Netherlands', 'Ecuador'),\n",
       " ('A', 'Ecuador', 'Senegal'),\n",
       " ('A', 'Netherlands', 'Qatar'),\n",
       " ('B', 'England', 'Iran'),\n",
       " ('B', 'United States', 'Wales'),\n",
       " ('B', 'Wales', 'Iran'),\n",
       " ('B', 'England', 'United States')]"
      ]
     },
     "execution_count": 25,
     "metadata": {},
     "output_type": "execute_result"
    }
   ],
   "source": [
    "matches[:10]"
   ]
  },
  {
   "cell_type": "markdown",
   "id": "67d49348",
   "metadata": {},
   "source": [
    "Para a construção das variáveis vamos utilizar a última partida do time para que possamos pegar os valores de cada covariável.\n"
   ]
  },
  {
   "cell_type": "code",
   "execution_count": 26,
   "id": "81350972",
   "metadata": {},
   "outputs": [
    {
     "data": {
      "text/html": [
       "<div>\n",
       "<style scoped>\n",
       "    .dataframe tbody tr th:only-of-type {\n",
       "        vertical-align: middle;\n",
       "    }\n",
       "\n",
       "    .dataframe tbody tr th {\n",
       "        vertical-align: top;\n",
       "    }\n",
       "\n",
       "    .dataframe thead th {\n",
       "        text-align: right;\n",
       "    }\n",
       "</style>\n",
       "<table border=\"1\" class=\"dataframe\">\n",
       "  <thead>\n",
       "    <tr style=\"text-align: right;\">\n",
       "      <th></th>\n",
       "      <th>date</th>\n",
       "      <th>team</th>\n",
       "      <th>score</th>\n",
       "      <th>suf_score</th>\n",
       "      <th>rank</th>\n",
       "      <th>rank_suf</th>\n",
       "      <th>rank_change</th>\n",
       "      <th>total_points</th>\n",
       "      <th>result</th>\n",
       "      <th>rank_dif</th>\n",
       "      <th>points_by_rank</th>\n",
       "      <th>team_points</th>\n",
       "      <th>country_classification</th>\n",
       "      <th>points_by_classification</th>\n",
       "    </tr>\n",
       "  </thead>\n",
       "  <tbody>\n",
       "    <tr>\n",
       "      <th>0</th>\n",
       "      <td>2018-07-01</td>\n",
       "      <td>Russia</td>\n",
       "      <td>1.0</td>\n",
       "      <td>1.0</td>\n",
       "      <td>49.0</td>\n",
       "      <td>6.0</td>\n",
       "      <td>-12.0</td>\n",
       "      <td>1758.00</td>\n",
       "      <td>2</td>\n",
       "      <td>43.0</td>\n",
       "      <td>0.166667</td>\n",
       "      <td>1</td>\n",
       "      <td>6</td>\n",
       "      <td>1.00</td>\n",
       "    </tr>\n",
       "    <tr>\n",
       "      <th>1</th>\n",
       "      <td>2018-07-01</td>\n",
       "      <td>Croatia</td>\n",
       "      <td>1.0</td>\n",
       "      <td>1.0</td>\n",
       "      <td>12.0</td>\n",
       "      <td>15.0</td>\n",
       "      <td>-6.0</td>\n",
       "      <td>2036.00</td>\n",
       "      <td>2</td>\n",
       "      <td>-3.0</td>\n",
       "      <td>0.066667</td>\n",
       "      <td>1</td>\n",
       "      <td>2</td>\n",
       "      <td>0.50</td>\n",
       "    </tr>\n",
       "    <tr>\n",
       "      <th>2</th>\n",
       "      <td>2018-07-02</td>\n",
       "      <td>Brazil</td>\n",
       "      <td>2.0</td>\n",
       "      <td>0.0</td>\n",
       "      <td>4.0</td>\n",
       "      <td>10.0</td>\n",
       "      <td>1.0</td>\n",
       "      <td>2160.00</td>\n",
       "      <td>0</td>\n",
       "      <td>-6.0</td>\n",
       "      <td>0.300000</td>\n",
       "      <td>3</td>\n",
       "      <td>1</td>\n",
       "      <td>1.50</td>\n",
       "    </tr>\n",
       "    <tr>\n",
       "      <th>3</th>\n",
       "      <td>2018-07-02</td>\n",
       "      <td>Belgium</td>\n",
       "      <td>3.0</td>\n",
       "      <td>2.0</td>\n",
       "      <td>5.0</td>\n",
       "      <td>41.0</td>\n",
       "      <td>-1.0</td>\n",
       "      <td>2124.00</td>\n",
       "      <td>0</td>\n",
       "      <td>-36.0</td>\n",
       "      <td>0.073171</td>\n",
       "      <td>3</td>\n",
       "      <td>1</td>\n",
       "      <td>0.75</td>\n",
       "    </tr>\n",
       "    <tr>\n",
       "      <th>4</th>\n",
       "      <td>2018-07-03</td>\n",
       "      <td>Sweden</td>\n",
       "      <td>1.0</td>\n",
       "      <td>0.0</td>\n",
       "      <td>21.0</td>\n",
       "      <td>8.0</td>\n",
       "      <td>-1.0</td>\n",
       "      <td>1955.00</td>\n",
       "      <td>0</td>\n",
       "      <td>13.0</td>\n",
       "      <td>0.375000</td>\n",
       "      <td>3</td>\n",
       "      <td>4</td>\n",
       "      <td>3.00</td>\n",
       "    </tr>\n",
       "    <tr>\n",
       "      <th>...</th>\n",
       "      <td>...</td>\n",
       "      <td>...</td>\n",
       "      <td>...</td>\n",
       "      <td>...</td>\n",
       "      <td>...</td>\n",
       "      <td>...</td>\n",
       "      <td>...</td>\n",
       "      <td>...</td>\n",
       "      <td>...</td>\n",
       "      <td>...</td>\n",
       "      <td>...</td>\n",
       "      <td>...</td>\n",
       "      <td>...</td>\n",
       "      <td>...</td>\n",
       "    </tr>\n",
       "    <tr>\n",
       "      <th>6725</th>\n",
       "      <td>2022-09-27</td>\n",
       "      <td>Serbia</td>\n",
       "      <td>2.0</td>\n",
       "      <td>0.0</td>\n",
       "      <td>25.0</td>\n",
       "      <td>36.0</td>\n",
       "      <td>0.0</td>\n",
       "      <td>1549.53</td>\n",
       "      <td>1</td>\n",
       "      <td>11.0</td>\n",
       "      <td>0.083333</td>\n",
       "      <td>3</td>\n",
       "      <td>4</td>\n",
       "      <td>0.75</td>\n",
       "    </tr>\n",
       "    <tr>\n",
       "      <th>6726</th>\n",
       "      <td>2022-09-27</td>\n",
       "      <td>Slovenia</td>\n",
       "      <td>1.0</td>\n",
       "      <td>1.0</td>\n",
       "      <td>65.0</td>\n",
       "      <td>20.0</td>\n",
       "      <td>0.0</td>\n",
       "      <td>1372.48</td>\n",
       "      <td>2</td>\n",
       "      <td>-45.0</td>\n",
       "      <td>0.050000</td>\n",
       "      <td>1</td>\n",
       "      <td>6</td>\n",
       "      <td>0.25</td>\n",
       "    </tr>\n",
       "    <tr>\n",
       "      <th>6727</th>\n",
       "      <td>2022-09-27</td>\n",
       "      <td>Cyprus</td>\n",
       "      <td>1.0</td>\n",
       "      <td>5.0</td>\n",
       "      <td>108.0</td>\n",
       "      <td>106.0</td>\n",
       "      <td>1.0</td>\n",
       "      <td>1180.52</td>\n",
       "      <td>0</td>\n",
       "      <td>-2.0</td>\n",
       "      <td>0.000000</td>\n",
       "      <td>0</td>\n",
       "      <td>8</td>\n",
       "      <td>0.00</td>\n",
       "    </tr>\n",
       "    <tr>\n",
       "      <th>6728</th>\n",
       "      <td>2022-09-27</td>\n",
       "      <td>Northern Ireland</td>\n",
       "      <td>1.0</td>\n",
       "      <td>3.0</td>\n",
       "      <td>58.0</td>\n",
       "      <td>49.0</td>\n",
       "      <td>0.0</td>\n",
       "      <td>1399.10</td>\n",
       "      <td>0</td>\n",
       "      <td>-9.0</td>\n",
       "      <td>0.000000</td>\n",
       "      <td>0</td>\n",
       "      <td>6</td>\n",
       "      <td>0.00</td>\n",
       "    </tr>\n",
       "    <tr>\n",
       "      <th>6729</th>\n",
       "      <td>2022-09-30</td>\n",
       "      <td>Solomon Islands</td>\n",
       "      <td>0.0</td>\n",
       "      <td>1.0</td>\n",
       "      <td>137.0</td>\n",
       "      <td>163.0</td>\n",
       "      <td>0.0</td>\n",
       "      <td>1092.56</td>\n",
       "      <td>0</td>\n",
       "      <td>26.0</td>\n",
       "      <td>0.000000</td>\n",
       "      <td>0</td>\n",
       "      <td>8</td>\n",
       "      <td>0.00</td>\n",
       "    </tr>\n",
       "  </tbody>\n",
       "</table>\n",
       "<p>6730 rows × 14 columns</p>\n",
       "</div>"
      ],
      "text/plain": [
       "            date              team  score  suf_score   rank  rank_suf  \\\n",
       "0     2018-07-01            Russia    1.0        1.0   49.0       6.0   \n",
       "1     2018-07-01           Croatia    1.0        1.0   12.0      15.0   \n",
       "2     2018-07-02            Brazil    2.0        0.0    4.0      10.0   \n",
       "3     2018-07-02           Belgium    3.0        2.0    5.0      41.0   \n",
       "4     2018-07-03            Sweden    1.0        0.0   21.0       8.0   \n",
       "...          ...               ...    ...        ...    ...       ...   \n",
       "6725  2022-09-27            Serbia    2.0        0.0   25.0      36.0   \n",
       "6726  2022-09-27          Slovenia    1.0        1.0   65.0      20.0   \n",
       "6727  2022-09-27            Cyprus    1.0        5.0  108.0     106.0   \n",
       "6728  2022-09-27  Northern Ireland    1.0        3.0   58.0      49.0   \n",
       "6729  2022-09-30   Solomon Islands    0.0        1.0  137.0     163.0   \n",
       "\n",
       "      rank_change  total_points  result  rank_dif  points_by_rank  \\\n",
       "0           -12.0       1758.00       2      43.0        0.166667   \n",
       "1            -6.0       2036.00       2      -3.0        0.066667   \n",
       "2             1.0       2160.00       0      -6.0        0.300000   \n",
       "3            -1.0       2124.00       0     -36.0        0.073171   \n",
       "4            -1.0       1955.00       0      13.0        0.375000   \n",
       "...           ...           ...     ...       ...             ...   \n",
       "6725          0.0       1549.53       1      11.0        0.083333   \n",
       "6726          0.0       1372.48       2     -45.0        0.050000   \n",
       "6727          1.0       1180.52       0      -2.0        0.000000   \n",
       "6728          0.0       1399.10       0      -9.0        0.000000   \n",
       "6729          0.0       1092.56       0      26.0        0.000000   \n",
       "\n",
       "      team_points  country_classification  points_by_classification  \n",
       "0               1                       6                      1.00  \n",
       "1               1                       2                      0.50  \n",
       "2               3                       1                      1.50  \n",
       "3               3                       1                      0.75  \n",
       "4               3                       4                      3.00  \n",
       "...           ...                     ...                       ...  \n",
       "6725            3                       4                      0.75  \n",
       "6726            1                       6                      0.25  \n",
       "6727            0                       8                      0.00  \n",
       "6728            0                       6                      0.00  \n",
       "6729            0                       8                      0.00  \n",
       "\n",
       "[6730 rows x 14 columns]"
      ]
     },
     "execution_count": 26,
     "metadata": {},
     "output_type": "execute_result"
    }
   ],
   "source": [
    "team_stats_raw"
   ]
  },
  {
   "cell_type": "code",
   "execution_count": 27,
   "id": "ee820287",
   "metadata": {
    "execution": {
     "iopub.execute_input": "2022-11-15T20:57:55.545909Z",
     "iopub.status.busy": "2022-11-15T20:57:55.545509Z",
     "iopub.status.idle": "2022-11-15T20:57:55.553939Z",
     "shell.execute_reply": "2022-11-15T20:57:55.553077Z"
    },
    "papermill": {
     "duration": 0.047742,
     "end_time": "2022-11-15T20:57:55.556345",
     "exception": false,
     "start_time": "2022-11-15T20:57:55.508603",
     "status": "completed"
    },
    "tags": []
   },
   "outputs": [],
   "source": [
    "def find_stats(team_1):\n",
    "#team_1 = \"Qatar\"\n",
    "    past_games = team_stats_raw[(team_stats_raw[\"team\"] == team_1)].sort_values(\"date\")\n",
    "    last5 = team_stats_raw[(team_stats_raw[\"team\"] == team_1)].sort_values(\"date\").tail(5)\n",
    "\n",
    "    team_1_rank = past_games[\"rank\"].values[-1]\n",
    "    team_1_goals = past_games['score'].mean()\n",
    "    team_1_goals_l5 = last5['score'].mean()\n",
    "    team_1_goals_suf = past_games['suf_score'].mean()\n",
    "    team_1_goals_suf_l5 = last5['suf_score'].mean()\n",
    "    team_1_rank_suf = past_games['rank_suf'].mean()\n",
    "    team_1_rank_suf_l5 = last5['rank_suf'].mean()\n",
    "    team_1_gp_rank = past_games['points_by_rank'].mean()\n",
    "    team_1_gp_rank_l5 = last5['points_by_rank'].mean()\n",
    "    team_1_points_by_classification = past_games['points_by_classification'].mean()\n",
    "\n",
    "    return [team_1_rank, team_1_goals, team_1_goals_l5, team_1_goals_suf, team_1_goals_suf_l5, team_1_rank_suf, team_1_rank_suf_l5, team_1_gp_rank, team_1_gp_rank_l5, team_1_points_by_classification]"
   ]
  },
  {
   "cell_type": "code",
   "execution_count": 28,
   "id": "750a1556",
   "metadata": {
    "execution": {
     "iopub.execute_input": "2022-11-15T20:57:55.630923Z",
     "iopub.status.busy": "2022-11-15T20:57:55.630155Z",
     "iopub.status.idle": "2022-11-15T20:57:55.638200Z",
     "shell.execute_reply": "2022-11-15T20:57:55.637314Z"
    },
    "papermill": {
     "duration": 0.04785,
     "end_time": "2022-11-15T20:57:55.640509",
     "exception": false,
     "start_time": "2022-11-15T20:57:55.592659",
     "status": "completed"
    },
    "tags": []
   },
   "outputs": [],
   "source": [
    "def find_features(team_1, team_2):\n",
    "    rank_dif = team_1[0] - team_2[0]\n",
    "    goals_dif = team_1[1] - team_2[1]\n",
    "    goals_dif_l5 = team_1[2] - team_2[2]\n",
    "    goals_suf_dif = team_1[3] - team_2[3]\n",
    "    goals_suf_dif_l5 = team_1[4] - team_2[4]\n",
    "    goals_per_ranking_dif = (team_1[1]/team_1[5]) - (team_2[1]/team_2[5])\n",
    "    dif_rank_agst = team_1[5] - team_2[5]\n",
    "    dif_rank_agst_l5 = team_1[6] - team_2[6]\n",
    "    dif_gp_rank = team_1[7] - team_2[7]\n",
    "    dif_gp_rank_l5 = team_1[8] - team_2[8]\n",
    "    dif_points_by_classification = team_1[9] - team_2[9]\n",
    "    \n",
    "    return [rank_dif, goals_dif, goals_dif_l5, goals_suf_dif, goals_suf_dif_l5, goals_per_ranking_dif, dif_rank_agst, dif_rank_agst_l5, dif_gp_rank, dif_gp_rank_l5, 1, 0, dif_points_by_classification]"
   ]
  },
  {
   "cell_type": "markdown",
   "id": "bd3be1ae",
   "metadata": {
    "papermill": {
     "duration": 0.034994,
     "end_time": "2022-11-15T20:57:55.710846",
     "exception": false,
     "start_time": "2022-11-15T20:57:55.675852",
     "status": "completed"
    },
    "tags": []
   },
   "source": [
    "Now, we are able to simulate.\n",
    "\n",
    "Since the model simulates if team 1 will win or not win, it's needed to create some criteria to define a draw. Also, since we have not home advantage at World Cup, the idea is to predict game two times, changing team 1 and team 2. The team with the highest mean of probabilities will be assigned as winner. At the group phase, if \"home team\" win as team 1 and loses as team 2, or if \"home team\" win as team 2 and loses at team 1, there will be assigned a draw in that match."
   ]
  },
  {
   "cell_type": "code",
   "execution_count": 29,
   "id": "747d65b2",
   "metadata": {},
   "outputs": [
    {
     "data": {
      "text/plain": [
       "Index(['rank_dif', 'goals_dif', 'goals_dif_l5', 'goals_suf_dif',\n",
       "       'goals_suf_dif_l5', 'goals_per_ranking_dif', 'dif_rank_agst',\n",
       "       'dif_rank_agst_l5', 'dif_points_rank', 'dif_points_rank_l5',\n",
       "       'is_friendly_0', 'is_friendly_1', 'dif_points_by_classification'],\n",
       "      dtype='object')"
      ]
     },
     "execution_count": 29,
     "metadata": {},
     "output_type": "execute_result"
    }
   ],
   "source": [
    "X.columns"
   ]
  },
  {
   "cell_type": "code",
   "execution_count": 30,
   "id": "53006776",
   "metadata": {
    "execution": {
     "iopub.execute_input": "2022-11-15T20:57:55.787104Z",
     "iopub.status.busy": "2022-11-15T20:57:55.786685Z",
     "iopub.status.idle": "2022-11-15T20:57:56.238655Z",
     "shell.execute_reply": "2022-11-15T20:57:56.237128Z"
    },
    "papermill": {
     "duration": 0.492525,
     "end_time": "2022-11-15T20:57:56.241879",
     "exception": false,
     "start_time": "2022-11-15T20:57:55.749354",
     "status": "completed"
    },
    "tags": []
   },
   "outputs": [
    {
     "name": "stdout",
     "output_type": "stream",
     "text": [
      "\n",
      "\n",
      "---------- Começando a simulação para o Grupo A ----------\n",
      "Grupo A - Qatar x Ecuador: Empate\n",
      "Grupo A - Senegal x Netherlands: vencedor Netherlands com 0.64 probabilidade\n",
      "Grupo A - Qatar x Senegal: vencedor Senegal com 0.68 probabilidade\n",
      "Grupo A - Netherlands x Ecuador: vencedor Netherlands com 0.71 probabilidade\n",
      "Grupo A - Ecuador x Senegal: vencedor Senegal com 0.65 probabilidade\n",
      "Grupo A - Netherlands x Qatar: Empate\n",
      "\n",
      "\n",
      "Grupo A classificados: \n",
      "Netherlands -------- 7\n",
      "Senegal -------- 6\n",
      "Qatar -------- 2\n",
      "Ecuador -------- 1\n",
      "\n",
      "\n",
      "---------- Começando a simulação para o Grupo B ----------\n",
      "Grupo B - England x Iran: vencedor England com 0.67 probabilidade\n",
      "Grupo B - United States x Wales: Empate\n",
      "Grupo B - Wales x Iran: Empate\n",
      "Grupo B - England x United States: vencedor England com 0.62 probabilidade\n",
      "Grupo B - Wales x England: Empate\n",
      "Grupo B - Iran x United States: Empate\n",
      "\n",
      "\n",
      "Grupo B classificados: \n",
      "England -------- 7\n",
      "Wales -------- 3\n",
      "United States -------- 2\n",
      "Iran -------- 2\n",
      "\n",
      "\n",
      "---------- Começando a simulação para o Grupo C ----------\n",
      "Grupo C - Argentina x Saudi Arabia: vencedor Argentina com 0.69 probabilidade\n",
      "Grupo C - Mexico x Poland: vencedor Mexico com 0.61 probabilidade\n",
      "Grupo C - Poland x Saudi Arabia: vencedor Poland com 0.70 probabilidade\n",
      "Grupo C - Argentina x Mexico: Empate\n",
      "Grupo C - Poland x Argentina: vencedor Argentina com 0.65 probabilidade\n",
      "Grupo C - Saudi Arabia x Mexico: vencedor Mexico com 0.70 probabilidade\n",
      "\n",
      "\n",
      "Grupo C classificados: \n",
      "Argentina -------- 7\n",
      "Mexico -------- 7\n",
      "Poland -------- 3\n",
      "Saudi Arabia -------- 0\n",
      "\n",
      "\n",
      "---------- Começando a simulação para o Grupo D ----------\n",
      "Grupo D - Denmark x Tunisia: Empate\n",
      "Grupo D - France x Australia: vencedor France com 0.72 probabilidade\n",
      "Grupo D - Tunisia x Australia: vencedor Tunisia com 0.62 probabilidade\n",
      "Grupo D - France x Denmark: vencedor France com 0.54 probabilidade\n",
      "Grupo D - Australia x Denmark: vencedor Denmark com 0.71 probabilidade\n",
      "Grupo D - Tunisia x France: Empate\n",
      "\n",
      "\n",
      "Grupo D classificados: \n",
      "France -------- 7\n",
      "Tunisia -------- 5\n",
      "Denmark -------- 4\n",
      "Australia -------- 0\n",
      "\n",
      "\n",
      "---------- Começando a simulação para o Grupo E ----------\n",
      "Grupo E - Germany x Japan: vencedor Germany com 0.65 probabilidade\n",
      "Grupo E - Spain x Costa Rica: vencedor Spain com 0.69 probabilidade\n",
      "Grupo E - Japan x Costa Rica: Empate\n",
      "Grupo E - Spain x Germany: Empate\n",
      "Grupo E - Japan x Spain: vencedor Spain com 0.62 probabilidade\n",
      "Grupo E - Costa Rica x Germany: vencedor Germany com 0.71 probabilidade\n",
      "\n",
      "\n",
      "Grupo E classificados: \n",
      "Spain -------- 7\n",
      "Germany -------- 7\n",
      "Japan -------- 1\n",
      "Costa Rica -------- 1\n",
      "\n",
      "\n",
      "---------- Começando a simulação para o Grupo F ----------\n",
      "Grupo F - Morocco x Croatia: Empate\n",
      "Grupo F - Belgium x Canada: Empate\n",
      "Grupo F - Belgium x Morocco: Empate\n",
      "Grupo F - Croatia x Canada: Empate\n",
      "Grupo F - Croatia x Belgium: vencedor Belgium com 0.62 probabilidade\n",
      "Grupo F - Canada x Morocco: vencedor Morocco com 0.65 probabilidade\n",
      "\n",
      "\n",
      "Grupo F classificados: \n",
      "Belgium -------- 5\n",
      "Morocco -------- 5\n",
      "Croatia -------- 2\n",
      "Canada -------- 2\n",
      "\n",
      "\n",
      "---------- Começando a simulação para o Grupo G ----------\n",
      "Grupo G - Switzerland x Cameroon: vencedor Switzerland com 0.67 probabilidade\n",
      "Grupo G - Brazil x Serbia: vencedor Brazil com 0.64 probabilidade\n",
      "Grupo G - Cameroon x Serbia: Empate\n",
      "Grupo G - Brazil x Switzerland: vencedor Brazil com 0.63 probabilidade\n",
      "Grupo G - Serbia x Switzerland: vencedor Switzerland com 0.59 probabilidade\n",
      "Grupo G - Cameroon x Brazil: vencedor Brazil com 0.66 probabilidade\n",
      "\n",
      "\n",
      "Grupo G classificados: \n",
      "Brazil -------- 9\n",
      "Switzerland -------- 6\n",
      "Serbia -------- 1\n",
      "Cameroon -------- 1\n",
      "\n",
      "\n",
      "---------- Começando a simulação para o Grupo H ----------\n",
      "Grupo H - Uruguay x South Korea: Empate\n",
      "Grupo H - Portugal x Ghana: vencedor Portugal com 0.68 probabilidade\n",
      "Grupo H - South Korea x Ghana: vencedor South Korea com 0.66 probabilidade\n",
      "Grupo H - Portugal x Uruguay: Empate\n",
      "Grupo H - Ghana x Uruguay: vencedor Uruguay com 0.70 probabilidade\n",
      "Grupo H - South Korea x Portugal: Empate\n",
      "\n",
      "\n",
      "Group H advanced: \n",
      "Portugal -------- 5\n",
      "Uruguay -------- 5\n",
      "South Korea -------- 5\n",
      "Ghana -------- 0\n"
     ]
    }
   ],
   "source": [
    "advanced_group = []\n",
    "last_group = \"\"\n",
    "\n",
    "for k in table.keys():\n",
    "    for t in table[k]:\n",
    "        t[1] = 0\n",
    "        t[2] = []\n",
    "        \n",
    "for teams in matches:\n",
    "    draw = False\n",
    "    team_1 = find_stats(teams[1])\n",
    "    team_2 = find_stats(teams[2])\n",
    "\n",
    "    \n",
    "\n",
    "    features_g1 = find_features(team_1, team_2)\n",
    "    features_g2 = find_features(team_2, team_1)\n",
    "\n",
    "    probs_g1 = gb.predict_proba([features_g1])\n",
    "    probs_g2 = gb.predict_proba([features_g2])\n",
    "    \n",
    "    team_1_prob_g1 = probs_g1[0][0] # Probabilidade de vitória do time 1 em casa\n",
    "    team_1_prob_g2 = probs_g2[0][1] # Probabilidade de vitória do time 1 fora de casa\n",
    "    team_2_prob_g1 = probs_g1[0][1] # Probabilidade de vitória do time 2 fora de casa\n",
    "    team_2_prob_g2 = probs_g2[0][0] # Probabilidade de vitória do time 2 em casa\n",
    "\n",
    "    team_1_prob = (probs_g1[0][0] + probs_g2[0][1])/2\n",
    "    team_2_prob = (probs_g2[0][0] + probs_g1[0][1])/2\n",
    "    \n",
    "    if ((team_1_prob_g1 > team_2_prob_g1) & (team_2_prob_g2 > team_1_prob_g2)) | ((team_1_prob_g1 < team_2_prob_g1) & (team_2_prob_g2 < team_1_prob_g2)):\n",
    "        draw=True\n",
    "        for i in table[teams[0]]:\n",
    "            if i[0] == teams[1] or i[0] == teams[2]:\n",
    "                i[1] += 1\n",
    "                \n",
    "    elif team_1_prob > team_2_prob:\n",
    "        winner = teams[1]\n",
    "        winner_proba = team_1_prob\n",
    "        for i in table[teams[0]]:\n",
    "            if i[0] == teams[1]:\n",
    "                i[1] += 3\n",
    "                \n",
    "    elif team_2_prob > team_1_prob:  \n",
    "        winner = teams[2]\n",
    "        winner_proba = team_2_prob\n",
    "        for i in table[teams[0]]:\n",
    "            if i[0] == teams[2]:\n",
    "                i[1] += 3\n",
    "    \n",
    "    for i in table[teams[0]]: #adding criterio de desempate (probs por jogo)\n",
    "            if i[0] == teams[1]:\n",
    "                i[2].append(team_1_prob)\n",
    "            if i[0] == teams[2]:\n",
    "                i[2].append(team_2_prob)\n",
    "\n",
    "    if last_group != teams[0]:\n",
    "        if last_group != \"\":\n",
    "            print(\"\\n\")\n",
    "            print(\"Grupo %s classificados: \"%(last_group))\n",
    "            \n",
    "            for i in table[last_group]: #adding crieterio de desempate\n",
    "                i[2] = np.mean(i[2])\n",
    "            \n",
    "            final_points = table[last_group]\n",
    "            final_table = sorted(final_points, key=itemgetter(1, 2), reverse = True)\n",
    "            advanced_group.append([final_table[0][0], final_table[1][0]])\n",
    "            for i in final_table:\n",
    "                print(\"%s -------- %d\"%(i[0], i[1]))\n",
    "        print(\"\\n\")\n",
    "        print(\"-\"*10+\" Começando a simulação para o Grupo %s \"%(teams[0])+\"-\"*10)\n",
    "        \n",
    "        \n",
    "    if draw == False:\n",
    "        print(\"Grupo %s - %s x %s: vencedor %s com %.2f probabilidade\"%(teams[0], teams[1], teams[2], winner, winner_proba))\n",
    "    else:\n",
    "        print(\"Grupo %s - %s x %s: Empate\"%(teams[0], teams[1], teams[2]))\n",
    "    last_group =  teams[0]\n",
    "\n",
    "print(\"\\n\")\n",
    "print(\"Group %s advanced: \"%(last_group))\n",
    "\n",
    "for i in table[last_group]: #adding crieterio de desempate\n",
    "    i[2] = np.mean(i[2])\n",
    "            \n",
    "final_points = table[last_group]\n",
    "final_table = sorted(final_points, key=itemgetter(1, 2), reverse = True)\n",
    "advanced_group.append([final_table[0][0], final_table[1][0]])\n",
    "for i in final_table:\n",
    "    print(\"%s -------- %d\"%(i[0], i[1]))"
   ]
  },
  {
   "cell_type": "markdown",
   "id": "ab22dbc6",
   "metadata": {
    "papermill": {
     "duration": 0.035959,
     "end_time": "2022-11-15T20:57:56.313583",
     "exception": false,
     "start_time": "2022-11-15T20:57:56.277624",
     "status": "completed"
    },
    "tags": []
   },
   "source": [
    "The group phase predicted no surprises, or maybe the draw between Brazil and Switzerland or France and Denmark. For the playoffs phase, I'll predict and show it graphically as made [here](https://www.kaggle.com/code/agostontorok/soccer-world-cup-2018-winner). "
   ]
  },
  {
   "cell_type": "code",
   "execution_count": 31,
   "id": "335e71db",
   "metadata": {
    "execution": {
     "iopub.execute_input": "2022-11-15T20:57:56.386842Z",
     "iopub.status.busy": "2022-11-15T20:57:56.386463Z",
     "iopub.status.idle": "2022-11-15T20:57:56.391321Z",
     "shell.execute_reply": "2022-11-15T20:57:56.390179Z"
    },
    "papermill": {
     "duration": 0.044245,
     "end_time": "2022-11-15T20:57:56.393755",
     "exception": false,
     "start_time": "2022-11-15T20:57:56.349510",
     "status": "completed"
    },
    "tags": []
   },
   "outputs": [],
   "source": [
    "advanced = advanced_group"
   ]
  },
  {
   "cell_type": "code",
   "execution_count": 32,
   "id": "2fa7960b",
   "metadata": {},
   "outputs": [
    {
     "data": {
      "text/plain": [
       "[['Netherlands', 'Senegal'],\n",
       " ['England', 'Wales'],\n",
       " ['Argentina', 'Mexico'],\n",
       " ['France', 'Tunisia'],\n",
       " ['Spain', 'Germany'],\n",
       " ['Belgium', 'Morocco'],\n",
       " ['Brazil', 'Switzerland'],\n",
       " ['Portugal', 'Uruguay']]"
      ]
     },
     "execution_count": 32,
     "metadata": {},
     "output_type": "execute_result"
    }
   ],
   "source": [
    "advanced"
   ]
  },
  {
   "cell_type": "code",
   "execution_count": 33,
   "id": "4cb59c8d",
   "metadata": {
    "execution": {
     "iopub.execute_input": "2022-11-15T20:57:56.468365Z",
     "iopub.status.busy": "2022-11-15T20:57:56.467947Z",
     "iopub.status.idle": "2022-11-15T20:57:56.472854Z",
     "shell.execute_reply": "2022-11-15T20:57:56.471634Z"
    },
    "papermill": {
     "duration": 0.045457,
     "end_time": "2022-11-15T20:57:56.475095",
     "exception": false,
     "start_time": "2022-11-15T20:57:56.429638",
     "status": "completed"
    },
    "tags": []
   },
   "outputs": [],
   "source": [
    "playoffs = {\"Round of 16\": [], \"Quarter-Final\": [], \"Semi-Final\": [], \"Final\": []}"
   ]
  },
  {
   "cell_type": "code",
   "execution_count": 34,
   "id": "ed783a10",
   "metadata": {
    "execution": {
     "iopub.execute_input": "2022-11-15T20:57:56.548034Z",
     "iopub.status.busy": "2022-11-15T20:57:56.547634Z",
     "iopub.status.idle": "2022-11-15T20:57:56.705951Z",
     "shell.execute_reply": "2022-11-15T20:57:56.704513Z"
    },
    "papermill": {
     "duration": 0.198286,
     "end_time": "2022-11-15T20:57:56.708952",
     "exception": false,
     "start_time": "2022-11-15T20:57:56.510666",
     "status": "completed"
    },
    "tags": []
   },
   "outputs": [
    {
     "name": "stdout",
     "output_type": "stream",
     "text": [
      "----------\n",
      "Starting simulation of Round of 16\n",
      "----------\n",
      "\n",
      "\n",
      "Netherlands vs. Wales: Netherlands advances with prob 0.60\n",
      "Argentina vs. Tunisia: Argentina advances with prob 0.64\n",
      "Spain vs. Morocco: Spain advances with prob 0.61\n",
      "Brazil vs. Uruguay: Brazil advances with prob 0.64\n",
      "Senegal vs. England: England advances with prob 0.66\n",
      "Mexico vs. France: France advances with prob 0.51\n",
      "Germany vs. Belgium: Belgium advances with prob 0.56\n",
      "Switzerland vs. Portugal: Portugal advances with prob 0.54\n",
      "----------\n",
      "Starting simulation of Quarter-Final\n",
      "----------\n",
      "\n",
      "\n",
      "Netherlands vs. Argentina: Argentina advances with prob 0.54\n",
      "Spain vs. Brazil: Brazil advances with prob 0.58\n",
      "England vs. France: France advances with prob 0.55\n",
      "Belgium vs. Portugal: Belgium advances with prob 0.60\n",
      "----------\n",
      "Starting simulation of Semi-Final\n",
      "----------\n",
      "\n",
      "\n",
      "Argentina vs. Brazil: Brazil advances with prob 0.53\n",
      "France vs. Belgium: Belgium advances with prob 0.52\n",
      "----------\n",
      "Starting simulation of Final\n",
      "----------\n",
      "\n",
      "\n",
      "Brazil vs. Belgium: Brazil advances with prob 0.51\n"
     ]
    }
   ],
   "source": [
    "for p in playoffs.keys():\n",
    "    playoffs[p] = []\n",
    "\n",
    "actual_round = \"\"\n",
    "next_rounds = []\n",
    "\n",
    "for p in playoffs.keys():\n",
    "    if p == \"Round of 16\":\n",
    "        control = []\n",
    "        for a in range(0, len(advanced*2), 1):\n",
    "            if a < len(advanced):\n",
    "                if a % 2 == 0:\n",
    "                    control.append((advanced*2)[a][0])\n",
    "                else:\n",
    "                    control.append((advanced*2)[a][1])\n",
    "            else:\n",
    "                if a % 2 == 0:\n",
    "                    control.append((advanced*2)[a][1])\n",
    "                else:\n",
    "                    control.append((advanced*2)[a][0])\n",
    "\n",
    "        playoffs[p] = [[control[c], control[c+1]] for c in range(0, len(control)-1, 1) if c%2 == 0]\n",
    "        \n",
    "        for i in range(0, len(playoffs[p]), 1):\n",
    "            game = playoffs[p][i]\n",
    "            \n",
    "            home = game[0]\n",
    "            away = game[1]\n",
    "            team_1 = find_stats(home)\n",
    "            team_2 = find_stats(away)\n",
    "\n",
    "            features_g1 = find_features(team_1, team_2)\n",
    "            features_g2 = find_features(team_2, team_1)\n",
    "            \n",
    "            probs_g1 = gb.predict_proba([features_g1])\n",
    "            probs_g2 = gb.predict_proba([features_g2])\n",
    "            \n",
    "            team_1_prob = (probs_g1[0][0] + probs_g2[0][1])/2\n",
    "            team_2_prob = (probs_g2[0][0] + probs_g1[0][1])/2\n",
    "            \n",
    "            if actual_round != p:\n",
    "                print(\"-\"*10)\n",
    "                print(\"Starting simulation of %s\"%(p))\n",
    "                print(\"-\"*10)\n",
    "                print(\"\\n\")\n",
    "            \n",
    "            if team_1_prob < team_2_prob:\n",
    "                print(\"%s vs. %s: %s advances with prob %.2f\"%(home, away, away, team_2_prob))\n",
    "                next_rounds.append(away)\n",
    "            else:\n",
    "                print(\"%s vs. %s: %s advances with prob %.2f\"%(home, away, home, team_1_prob))\n",
    "                next_rounds.append(home)\n",
    "            \n",
    "            game.append([team_1_prob, team_2_prob])\n",
    "            playoffs[p][i] = game\n",
    "            actual_round = p\n",
    "        \n",
    "    else:\n",
    "        playoffs[p] = [[next_rounds[c], next_rounds[c+1]] for c in range(0, len(next_rounds)-1, 1) if c%2 == 0]\n",
    "        next_rounds = []\n",
    "        for i in range(0, len(playoffs[p])):\n",
    "            game = playoffs[p][i]\n",
    "            home = game[0]\n",
    "            away = game[1]\n",
    "            team_1 = find_stats(home)\n",
    "            team_2 = find_stats(away)\n",
    "            \n",
    "            features_g1 = find_features(team_1, team_2)\n",
    "            features_g2 = find_features(team_2, team_1)\n",
    "            \n",
    "            probs_g1 = gb.predict_proba([features_g1])\n",
    "            probs_g2 = gb.predict_proba([features_g2])\n",
    "            \n",
    "            team_1_prob = (probs_g1[0][0] + probs_g2[0][1])/2\n",
    "            team_2_prob = (probs_g2[0][0] + probs_g1[0][1])/2\n",
    "            \n",
    "            if actual_round != p:\n",
    "                print(\"-\"*10)\n",
    "                print(\"Starting simulation of %s\"%(p))\n",
    "                print(\"-\"*10)\n",
    "                print(\"\\n\")\n",
    "            \n",
    "            if team_1_prob < team_2_prob:\n",
    "                print(\"%s vs. %s: %s advances with prob %.2f\"%(home, away, away, team_2_prob))\n",
    "                next_rounds.append(away)\n",
    "            else:\n",
    "                print(\"%s vs. %s: %s advances with prob %.2f\"%(home, away, home, team_1_prob))\n",
    "                next_rounds.append(home)\n",
    "            game.append([team_1_prob, team_2_prob])\n",
    "            playoffs[p][i] = game\n",
    "            actual_round = p\n",
    "            "
   ]
  },
  {
   "cell_type": "markdown",
   "id": "1026982d",
   "metadata": {},
   "source": [
    "## Random forest"
   ]
  },
  {
   "cell_type": "code",
   "execution_count": 35,
   "id": "2c77b64a",
   "metadata": {},
   "outputs": [],
   "source": [
    "table = table_rf"
   ]
  },
  {
   "cell_type": "code",
   "execution_count": 36,
   "id": "53006776",
   "metadata": {
    "execution": {
     "iopub.execute_input": "2022-11-15T20:57:55.787104Z",
     "iopub.status.busy": "2022-11-15T20:57:55.786685Z",
     "iopub.status.idle": "2022-11-15T20:57:56.238655Z",
     "shell.execute_reply": "2022-11-15T20:57:56.237128Z"
    },
    "papermill": {
     "duration": 0.492525,
     "end_time": "2022-11-15T20:57:56.241879",
     "exception": false,
     "start_time": "2022-11-15T20:57:55.749354",
     "status": "completed"
    },
    "tags": []
   },
   "outputs": [
    {
     "name": "stdout",
     "output_type": "stream",
     "text": [
      "\n",
      "\n",
      "---------- Começando a simulação para o Grupo A ----------\n",
      "Grupo A - Qatar x Ecuador: Empate\n",
      "Grupo A - Senegal x Netherlands: vencedor Netherlands com 0.63 probabilidade\n",
      "Grupo A - Qatar x Senegal: vencedor Senegal com 0.75 probabilidade\n",
      "Grupo A - Netherlands x Ecuador: vencedor Netherlands com 0.74 probabilidade\n",
      "Grupo A - Ecuador x Senegal: vencedor Senegal com 0.68 probabilidade\n",
      "Grupo A - Netherlands x Qatar: vencedor Netherlands com 0.68 probabilidade\n",
      "\n",
      "\n",
      "Grupo A classificados: \n",
      "Netherlands -------- 9\n",
      "Senegal -------- 6\n",
      "Qatar -------- 1\n",
      "Ecuador -------- 1\n",
      "\n",
      "\n",
      "---------- Começando a simulação para o Grupo B ----------\n",
      "Grupo B - England x Iran: vencedor England com 0.69 probabilidade\n",
      "Grupo B - United States x Wales: Empate\n",
      "Grupo B - Wales x Iran: Empate\n",
      "Grupo B - England x United States: vencedor England com 0.60 probabilidade\n",
      "Grupo B - Wales x England: Empate\n",
      "Grupo B - Iran x United States: Empate\n",
      "\n",
      "\n",
      "Grupo B classificados: \n",
      "England -------- 7\n",
      "Wales -------- 3\n",
      "United States -------- 2\n",
      "Iran -------- 2\n",
      "\n",
      "\n",
      "---------- Começando a simulação para o Grupo C ----------\n",
      "Grupo C - Argentina x Saudi Arabia: vencedor Argentina com 0.70 probabilidade\n",
      "Grupo C - Mexico x Poland: vencedor Mexico com 0.63 probabilidade\n",
      "Grupo C - Poland x Saudi Arabia: vencedor Poland com 0.76 probabilidade\n",
      "Grupo C - Argentina x Mexico: Empate\n",
      "Grupo C - Poland x Argentina: vencedor Argentina com 0.65 probabilidade\n",
      "Grupo C - Saudi Arabia x Mexico: vencedor Mexico com 0.75 probabilidade\n",
      "\n",
      "\n",
      "Grupo C classificados: \n",
      "Argentina -------- 7\n",
      "Mexico -------- 7\n",
      "Poland -------- 3\n",
      "Saudi Arabia -------- 0\n",
      "\n",
      "\n",
      "---------- Começando a simulação para o Grupo D ----------\n",
      "Grupo D - Denmark x Tunisia: vencedor Denmark com 0.63 probabilidade\n",
      "Grupo D - France x Australia: vencedor France com 0.74 probabilidade\n",
      "Grupo D - Tunisia x Australia: vencedor Tunisia com 0.66 probabilidade\n",
      "Grupo D - France x Denmark: vencedor France com 0.57 probabilidade\n",
      "Grupo D - Australia x Denmark: vencedor Denmark com 0.71 probabilidade\n",
      "Grupo D - Tunisia x France: vencedor France com 0.66 probabilidade\n",
      "\n",
      "\n",
      "Grupo D classificados: \n",
      "France -------- 9\n",
      "Denmark -------- 6\n",
      "Tunisia -------- 3\n",
      "Australia -------- 0\n",
      "\n",
      "\n",
      "---------- Começando a simulação para o Grupo E ----------\n",
      "Grupo E - Germany x Japan: vencedor Germany com 0.63 probabilidade\n",
      "Grupo E - Spain x Costa Rica: vencedor Spain com 0.71 probabilidade\n",
      "Grupo E - Japan x Costa Rica: vencedor Japan com 0.57 probabilidade\n",
      "Grupo E - Spain x Germany: vencedor Spain com 0.57 probabilidade\n",
      "Grupo E - Japan x Spain: Empate\n",
      "Grupo E - Costa Rica x Germany: vencedor Germany com 0.74 probabilidade\n",
      "\n",
      "\n",
      "Grupo E classificados: \n",
      "Spain -------- 7\n",
      "Germany -------- 6\n",
      "Japan -------- 4\n",
      "Costa Rica -------- 0\n",
      "\n",
      "\n",
      "---------- Começando a simulação para o Grupo F ----------\n",
      "Grupo F - Morocco x Croatia: Empate\n",
      "Grupo F - Belgium x Canada: vencedor Belgium com 0.71 probabilidade\n",
      "Grupo F - Belgium x Morocco: vencedor Belgium com 0.68 probabilidade\n",
      "Grupo F - Croatia x Canada: Empate\n",
      "Grupo F - Croatia x Belgium: vencedor Belgium com 0.63 probabilidade\n",
      "Grupo F - Canada x Morocco: vencedor Morocco com 0.69 probabilidade\n",
      "\n",
      "\n",
      "Grupo F classificados: \n",
      "Belgium -------- 9\n",
      "Morocco -------- 4\n",
      "Croatia -------- 2\n",
      "Canada -------- 1\n",
      "\n",
      "\n",
      "---------- Começando a simulação para o Grupo G ----------\n",
      "Grupo G - Switzerland x Cameroon: vencedor Switzerland com 0.68 probabilidade\n",
      "Grupo G - Brazil x Serbia: vencedor Brazil com 0.63 probabilidade\n",
      "Grupo G - Cameroon x Serbia: Empate\n",
      "Grupo G - Brazil x Switzerland: vencedor Brazil com 0.65 probabilidade\n",
      "Grupo G - Serbia x Switzerland: vencedor Switzerland com 0.58 probabilidade\n",
      "Grupo G - Cameroon x Brazil: vencedor Brazil com 0.71 probabilidade\n",
      "\n",
      "\n",
      "Grupo G classificados: \n",
      "Brazil -------- 9\n",
      "Switzerland -------- 6\n",
      "Serbia -------- 1\n",
      "Cameroon -------- 1\n",
      "\n",
      "\n",
      "---------- Começando a simulação para o Grupo H ----------\n",
      "Grupo H - Uruguay x South Korea: Empate\n",
      "Grupo H - Portugal x Ghana: vencedor Portugal com 0.75 probabilidade\n",
      "Grupo H - South Korea x Ghana: vencedor South Korea com 0.74 probabilidade\n",
      "Grupo H - Portugal x Uruguay: vencedor Portugal com 0.62 probabilidade\n",
      "Grupo H - Ghana x Uruguay: vencedor Uruguay com 0.74 probabilidade\n",
      "Grupo H - South Korea x Portugal: vencedor Portugal com 0.58 probabilidade\n",
      "\n",
      "\n",
      "Group H advanced: \n",
      "Portugal -------- 9\n",
      "Uruguay -------- 4\n",
      "South Korea -------- 4\n",
      "Ghana -------- 0\n"
     ]
    }
   ],
   "source": [
    "advanced_group = []\n",
    "last_group = \"\"\n",
    "\n",
    "for k in table.keys():\n",
    "    for t in table[k]:\n",
    "        t[1] = 0\n",
    "        t[2] = []\n",
    "        \n",
    "for teams in matches:\n",
    "    draw = False\n",
    "    team_1 = find_stats(teams[1])\n",
    "    team_2 = find_stats(teams[2])\n",
    "\n",
    "    \n",
    "\n",
    "    features_g1 = find_features(team_1, team_2)\n",
    "    features_g2 = find_features(team_2, team_1)\n",
    "\n",
    "    probs_g1 = rf.predict_proba([features_g1])\n",
    "    probs_g2 = rf.predict_proba([features_g2])\n",
    "    \n",
    "    team_1_prob_g1 = probs_g1[0][0] # Probabilidade de vitória do time 1 em casa\n",
    "    team_1_prob_g2 = probs_g2[0][1] # Probabilidade de vitória do time 1 fora de casa\n",
    "    team_2_prob_g1 = probs_g1[0][1] # Probabilidade de vitória do time 2 fora de casa\n",
    "    team_2_prob_g2 = probs_g2[0][0] # Probabilidade de vitória do time 2 em casa\n",
    "\n",
    "    team_1_prob = (probs_g1[0][0] + probs_g2[0][1])/2\n",
    "    team_2_prob = (probs_g2[0][0] + probs_g1[0][1])/2\n",
    "    \n",
    "    if ((team_1_prob_g1 > team_2_prob_g1) & (team_2_prob_g2 > team_1_prob_g2)) | ((team_1_prob_g1 < team_2_prob_g1) & (team_2_prob_g2 < team_1_prob_g2)):\n",
    "        draw=True\n",
    "        for i in table[teams[0]]:\n",
    "            if i[0] == teams[1] or i[0] == teams[2]:\n",
    "                i[1] += 1\n",
    "                \n",
    "    elif team_1_prob > team_2_prob:\n",
    "        winner = teams[1]\n",
    "        winner_proba = team_1_prob\n",
    "        for i in table[teams[0]]:\n",
    "            if i[0] == teams[1]:\n",
    "                i[1] += 3\n",
    "                \n",
    "    elif team_2_prob > team_1_prob:  \n",
    "        winner = teams[2]\n",
    "        winner_proba = team_2_prob\n",
    "        for i in table[teams[0]]:\n",
    "            if i[0] == teams[2]:\n",
    "                i[1] += 3\n",
    "    \n",
    "    for i in table[teams[0]]: #adding criterio de desempate (probs por jogo)\n",
    "            if i[0] == teams[1]:\n",
    "                i[2].append(team_1_prob)\n",
    "            if i[0] == teams[2]:\n",
    "                i[2].append(team_2_prob)\n",
    "\n",
    "    if last_group != teams[0]:\n",
    "        if last_group != \"\":\n",
    "            print(\"\\n\")\n",
    "            print(\"Grupo %s classificados: \"%(last_group))\n",
    "            \n",
    "            for i in table[last_group]: #adding crieterio de desempate\n",
    "                i[2] = np.mean(i[2])\n",
    "            \n",
    "            final_points = table[last_group]\n",
    "            final_table = sorted(final_points, key=itemgetter(1, 2), reverse = True)\n",
    "            advanced_group.append([final_table[0][0], final_table[1][0]])\n",
    "            for i in final_table:\n",
    "                print(\"%s -------- %d\"%(i[0], i[1]))\n",
    "        print(\"\\n\")\n",
    "        print(\"-\"*10+\" Começando a simulação para o Grupo %s \"%(teams[0])+\"-\"*10)\n",
    "        \n",
    "        \n",
    "    if draw == False:\n",
    "        print(\"Grupo %s - %s x %s: vencedor %s com %.2f probabilidade\"%(teams[0], teams[1], teams[2], winner, winner_proba))\n",
    "    else:\n",
    "        print(\"Grupo %s - %s x %s: Empate\"%(teams[0], teams[1], teams[2]))\n",
    "    last_group =  teams[0]\n",
    "\n",
    "print(\"\\n\")\n",
    "print(\"Group %s advanced: \"%(last_group))\n",
    "\n",
    "for i in table[last_group]: #adding crieterio de desempate\n",
    "    i[2] = np.mean(i[2])\n",
    "            \n",
    "final_points = table[last_group]\n",
    "final_table = sorted(final_points, key=itemgetter(1, 2), reverse = True)\n",
    "advanced_group.append([final_table[0][0], final_table[1][0]])\n",
    "for i in final_table:\n",
    "    print(\"%s -------- %d\"%(i[0], i[1]))"
   ]
  },
  {
   "cell_type": "code",
   "execution_count": 37,
   "id": "335e71db",
   "metadata": {
    "execution": {
     "iopub.execute_input": "2022-11-15T20:57:56.386842Z",
     "iopub.status.busy": "2022-11-15T20:57:56.386463Z",
     "iopub.status.idle": "2022-11-15T20:57:56.391321Z",
     "shell.execute_reply": "2022-11-15T20:57:56.390179Z"
    },
    "papermill": {
     "duration": 0.044245,
     "end_time": "2022-11-15T20:57:56.393755",
     "exception": false,
     "start_time": "2022-11-15T20:57:56.349510",
     "status": "completed"
    },
    "tags": []
   },
   "outputs": [],
   "source": [
    "advanced = advanced_group"
   ]
  },
  {
   "cell_type": "code",
   "execution_count": 38,
   "id": "2fa7960b",
   "metadata": {},
   "outputs": [
    {
     "data": {
      "text/plain": [
       "[['Netherlands', 'Senegal'],\n",
       " ['England', 'Wales'],\n",
       " ['Argentina', 'Mexico'],\n",
       " ['France', 'Denmark'],\n",
       " ['Spain', 'Germany'],\n",
       " ['Belgium', 'Morocco'],\n",
       " ['Brazil', 'Switzerland'],\n",
       " ['Portugal', 'Uruguay']]"
      ]
     },
     "execution_count": 38,
     "metadata": {},
     "output_type": "execute_result"
    }
   ],
   "source": [
    "advanced"
   ]
  },
  {
   "cell_type": "code",
   "execution_count": 39,
   "id": "4cb59c8d",
   "metadata": {
    "execution": {
     "iopub.execute_input": "2022-11-15T20:57:56.468365Z",
     "iopub.status.busy": "2022-11-15T20:57:56.467947Z",
     "iopub.status.idle": "2022-11-15T20:57:56.472854Z",
     "shell.execute_reply": "2022-11-15T20:57:56.471634Z"
    },
    "papermill": {
     "duration": 0.045457,
     "end_time": "2022-11-15T20:57:56.475095",
     "exception": false,
     "start_time": "2022-11-15T20:57:56.429638",
     "status": "completed"
    },
    "tags": []
   },
   "outputs": [],
   "source": [
    "playoffs = {\"Round of 16\": [], \"Quarter-Final\": [], \"Semi-Final\": [], \"Final\": []}"
   ]
  },
  {
   "cell_type": "code",
   "execution_count": 40,
   "id": "ed783a10",
   "metadata": {
    "execution": {
     "iopub.execute_input": "2022-11-15T20:57:56.548034Z",
     "iopub.status.busy": "2022-11-15T20:57:56.547634Z",
     "iopub.status.idle": "2022-11-15T20:57:56.705951Z",
     "shell.execute_reply": "2022-11-15T20:57:56.704513Z"
    },
    "papermill": {
     "duration": 0.198286,
     "end_time": "2022-11-15T20:57:56.708952",
     "exception": false,
     "start_time": "2022-11-15T20:57:56.510666",
     "status": "completed"
    },
    "tags": []
   },
   "outputs": [
    {
     "name": "stdout",
     "output_type": "stream",
     "text": [
      "----------\n",
      "Starting simulation of Round of 16\n",
      "----------\n",
      "\n",
      "\n",
      "Netherlands vs. Wales: Netherlands advances with prob 0.60\n",
      "Argentina vs. Denmark: Argentina advances with prob 0.58\n",
      "Spain vs. Morocco: Spain advances with prob 0.62\n",
      "Brazil vs. Uruguay: Brazil advances with prob 0.65\n",
      "Senegal vs. England: England advances with prob 0.68\n",
      "Mexico vs. France: Mexico advances with prob 0.50\n",
      "Germany vs. Belgium: Belgium advances with prob 0.61\n",
      "Switzerland vs. Portugal: Portugal advances with prob 0.56\n",
      "----------\n",
      "Starting simulation of Quarter-Final\n",
      "----------\n",
      "\n",
      "\n",
      "Netherlands vs. Argentina: Argentina advances with prob 0.58\n",
      "Spain vs. Brazil: Brazil advances with prob 0.60\n",
      "England vs. Mexico: England advances with prob 0.56\n",
      "Belgium vs. Portugal: Belgium advances with prob 0.60\n",
      "----------\n",
      "Starting simulation of Semi-Final\n",
      "----------\n",
      "\n",
      "\n",
      "Argentina vs. Brazil: Brazil advances with prob 0.53\n",
      "England vs. Belgium: Belgium advances with prob 0.55\n",
      "----------\n",
      "Starting simulation of Final\n",
      "----------\n",
      "\n",
      "\n",
      "Brazil vs. Belgium: Brazil advances with prob 0.51\n"
     ]
    }
   ],
   "source": [
    "for p in playoffs.keys():\n",
    "    playoffs[p] = []\n",
    "\n",
    "actual_round = \"\"\n",
    "next_rounds = []\n",
    "\n",
    "for p in playoffs.keys():\n",
    "    if p == \"Round of 16\":\n",
    "        control = []\n",
    "        for a in range(0, len(advanced*2), 1):\n",
    "            if a < len(advanced):\n",
    "                if a % 2 == 0:\n",
    "                    control.append((advanced*2)[a][0])\n",
    "                else:\n",
    "                    control.append((advanced*2)[a][1])\n",
    "            else:\n",
    "                if a % 2 == 0:\n",
    "                    control.append((advanced*2)[a][1])\n",
    "                else:\n",
    "                    control.append((advanced*2)[a][0])\n",
    "\n",
    "        playoffs[p] = [[control[c], control[c+1]] for c in range(0, len(control)-1, 1) if c%2 == 0]\n",
    "        \n",
    "        for i in range(0, len(playoffs[p]), 1):\n",
    "            game = playoffs[p][i]\n",
    "            \n",
    "            home = game[0]\n",
    "            away = game[1]\n",
    "            team_1 = find_stats(home)\n",
    "            team_2 = find_stats(away)\n",
    "\n",
    "            features_g1 = find_features(team_1, team_2)\n",
    "            features_g2 = find_features(team_2, team_1)\n",
    "            \n",
    "            probs_g1 = rf.predict_proba([features_g1])\n",
    "            probs_g2 = rf.predict_proba([features_g2])\n",
    "            \n",
    "            team_1_prob = (probs_g1[0][0] + probs_g2[0][1])/2\n",
    "            team_2_prob = (probs_g2[0][0] + probs_g1[0][1])/2\n",
    "            \n",
    "            if actual_round != p:\n",
    "                print(\"-\"*10)\n",
    "                print(\"Starting simulation of %s\"%(p))\n",
    "                print(\"-\"*10)\n",
    "                print(\"\\n\")\n",
    "            \n",
    "            if team_1_prob < team_2_prob:\n",
    "                print(\"%s vs. %s: %s advances with prob %.2f\"%(home, away, away, team_2_prob))\n",
    "                next_rounds.append(away)\n",
    "            else:\n",
    "                print(\"%s vs. %s: %s advances with prob %.2f\"%(home, away, home, team_1_prob))\n",
    "                next_rounds.append(home)\n",
    "            \n",
    "            game.append([team_1_prob, team_2_prob])\n",
    "            playoffs[p][i] = game\n",
    "            actual_round = p\n",
    "        \n",
    "    else:\n",
    "        playoffs[p] = [[next_rounds[c], next_rounds[c+1]] for c in range(0, len(next_rounds)-1, 1) if c%2 == 0]\n",
    "        next_rounds = []\n",
    "        for i in range(0, len(playoffs[p])):\n",
    "            game = playoffs[p][i]\n",
    "            home = game[0]\n",
    "            away = game[1]\n",
    "            team_1 = find_stats(home)\n",
    "            team_2 = find_stats(away)\n",
    "            \n",
    "            features_g1 = find_features(team_1, team_2)\n",
    "            features_g2 = find_features(team_2, team_1)\n",
    "            \n",
    "            probs_g1 = rf.predict_proba([features_g1])\n",
    "            probs_g2 = rf.predict_proba([features_g2])\n",
    "            \n",
    "            team_1_prob = (probs_g1[0][0] + probs_g2[0][1])/2\n",
    "            team_2_prob = (probs_g2[0][0] + probs_g1[0][1])/2\n",
    "            \n",
    "            if actual_round != p:\n",
    "                print(\"-\"*10)\n",
    "                print(\"Starting simulation of %s\"%(p))\n",
    "                print(\"-\"*10)\n",
    "                print(\"\\n\")\n",
    "            \n",
    "            if team_1_prob < team_2_prob:\n",
    "                print(\"%s vs. %s: %s advances with prob %.2f\"%(home, away, away, team_2_prob))\n",
    "                next_rounds.append(away)\n",
    "            else:\n",
    "                print(\"%s vs. %s: %s advances with prob %.2f\"%(home, away, home, team_1_prob))\n",
    "                next_rounds.append(home)\n",
    "            game.append([team_1_prob, team_2_prob])\n",
    "            playoffs[p][i] = game\n",
    "            actual_round = p\n",
    "            "
   ]
  },
  {
   "cell_type": "markdown",
   "id": "3ac8707f",
   "metadata": {},
   "source": [
    "## Regressão Logística"
   ]
  },
  {
   "cell_type": "code",
   "execution_count": 41,
   "id": "cdc022eb",
   "metadata": {},
   "outputs": [],
   "source": [
    "table = table_rlog"
   ]
  },
  {
   "cell_type": "code",
   "execution_count": 42,
   "id": "53006776",
   "metadata": {
    "execution": {
     "iopub.execute_input": "2022-11-15T20:57:55.787104Z",
     "iopub.status.busy": "2022-11-15T20:57:55.786685Z",
     "iopub.status.idle": "2022-11-15T20:57:56.238655Z",
     "shell.execute_reply": "2022-11-15T20:57:56.237128Z"
    },
    "papermill": {
     "duration": 0.492525,
     "end_time": "2022-11-15T20:57:56.241879",
     "exception": false,
     "start_time": "2022-11-15T20:57:55.749354",
     "status": "completed"
    },
    "tags": []
   },
   "outputs": [
    {
     "name": "stdout",
     "output_type": "stream",
     "text": [
      "\n",
      "\n",
      "---------- Começando a simulação para o Grupo A ----------\n",
      "Grupo A - Qatar x Ecuador: Empate\n",
      "Grupo A - Senegal x Netherlands: Empate\n",
      "Grupo A - Qatar x Senegal: vencedor Senegal com 0.74 probabilidade\n",
      "Grupo A - Netherlands x Ecuador: vencedor Netherlands com 0.79 probabilidade\n",
      "Grupo A - Ecuador x Senegal: vencedor Senegal com 0.77 probabilidade\n",
      "Grupo A - Netherlands x Qatar: vencedor Netherlands com 0.76 probabilidade\n",
      "\n",
      "\n",
      "Grupo A classificados: \n",
      "Netherlands -------- 7\n",
      "Senegal -------- 7\n",
      "Qatar -------- 1\n",
      "Ecuador -------- 1\n",
      "\n",
      "\n",
      "---------- Começando a simulação para o Grupo B ----------\n",
      "Grupo B - England x Iran: Empate\n",
      "Grupo B - United States x Wales: Empate\n",
      "Grupo B - Wales x Iran: Empate\n",
      "Grupo B - England x United States: Empate\n",
      "Grupo B - Wales x England: Empate\n",
      "Grupo B - Iran x United States: Empate\n",
      "\n",
      "\n",
      "Grupo B classificados: \n",
      "England -------- 3\n",
      "Wales -------- 3\n",
      "United States -------- 3\n",
      "Iran -------- 3\n",
      "\n",
      "\n",
      "---------- Começando a simulação para o Grupo C ----------\n",
      "Grupo C - Argentina x Saudi Arabia: vencedor Argentina com 0.84 probabilidade\n",
      "Grupo C - Mexico x Poland: Empate\n",
      "Grupo C - Poland x Saudi Arabia: vencedor Poland com 0.75 probabilidade\n",
      "Grupo C - Argentina x Mexico: Empate\n",
      "Grupo C - Poland x Argentina: vencedor Argentina com 0.63 probabilidade\n",
      "Grupo C - Saudi Arabia x Mexico: vencedor Mexico com 0.79 probabilidade\n",
      "\n",
      "\n",
      "Grupo C classificados: \n",
      "Argentina -------- 7\n",
      "Mexico -------- 5\n",
      "Poland -------- 4\n",
      "Saudi Arabia -------- 0\n",
      "\n",
      "\n",
      "---------- Começando a simulação para o Grupo D ----------\n",
      "Grupo D - Denmark x Tunisia: Empate\n",
      "Grupo D - France x Australia: vencedor France com 0.69 probabilidade\n",
      "Grupo D - Tunisia x Australia: vencedor Tunisia com 0.62 probabilidade\n",
      "Grupo D - France x Denmark: Empate\n",
      "Grupo D - Australia x Denmark: vencedor Denmark com 0.69 probabilidade\n",
      "Grupo D - Tunisia x France: Empate\n",
      "\n",
      "\n",
      "Grupo D classificados: \n",
      "France -------- 5\n",
      "Denmark -------- 5\n",
      "Tunisia -------- 5\n",
      "Australia -------- 0\n",
      "\n",
      "\n",
      "---------- Começando a simulação para o Grupo E ----------\n",
      "Grupo E - Germany x Japan: Empate\n",
      "Grupo E - Spain x Costa Rica: vencedor Spain com 0.62 probabilidade\n",
      "Grupo E - Japan x Costa Rica: Empate\n",
      "Grupo E - Spain x Germany: Empate\n",
      "Grupo E - Japan x Spain: Empate\n",
      "Grupo E - Costa Rica x Germany: vencedor Germany com 0.63 probabilidade\n",
      "\n",
      "\n",
      "Grupo E classificados: \n",
      "Germany -------- 5\n",
      "Spain -------- 5\n",
      "Japan -------- 3\n",
      "Costa Rica -------- 1\n",
      "\n",
      "\n",
      "---------- Começando a simulação para o Grupo F ----------\n",
      "Grupo F - Morocco x Croatia: Empate\n",
      "Grupo F - Belgium x Canada: vencedor Belgium com 0.74 probabilidade\n",
      "Grupo F - Belgium x Morocco: Empate\n",
      "Grupo F - Croatia x Canada: vencedor Croatia com 0.65 probabilidade\n",
      "Grupo F - Croatia x Belgium: Empate\n",
      "Grupo F - Canada x Morocco: vencedor Morocco com 0.66 probabilidade\n",
      "\n",
      "\n",
      "Grupo F classificados: \n",
      "Belgium -------- 5\n",
      "Morocco -------- 5\n",
      "Croatia -------- 5\n",
      "Canada -------- 0\n",
      "\n",
      "\n",
      "---------- Começando a simulação para o Grupo G ----------\n",
      "Grupo G - Switzerland x Cameroon: Empate\n",
      "Grupo G - Brazil x Serbia: vencedor Brazil com 0.69 probabilidade\n",
      "Grupo G - Cameroon x Serbia: Empate\n",
      "Grupo G - Brazil x Switzerland: vencedor Brazil com 0.68 probabilidade\n",
      "Grupo G - Serbia x Switzerland: Empate\n",
      "Grupo G - Cameroon x Brazil: vencedor Brazil com 0.77 probabilidade\n",
      "\n",
      "\n",
      "Grupo G classificados: \n",
      "Brazil -------- 9\n",
      "Switzerland -------- 2\n",
      "Serbia -------- 2\n",
      "Cameroon -------- 2\n",
      "\n",
      "\n",
      "---------- Começando a simulação para o Grupo H ----------\n",
      "Grupo H - Uruguay x South Korea: Empate\n",
      "Grupo H - Portugal x Ghana: vencedor Portugal com 0.76 probabilidade\n",
      "Grupo H - South Korea x Ghana: vencedor South Korea com 0.73 probabilidade\n",
      "Grupo H - Portugal x Uruguay: Empate\n",
      "Grupo H - Ghana x Uruguay: vencedor Uruguay com 0.75 probabilidade\n",
      "Grupo H - South Korea x Portugal: Empate\n",
      "\n",
      "\n",
      "Group H advanced: \n",
      "Portugal -------- 5\n",
      "Uruguay -------- 5\n",
      "South Korea -------- 5\n",
      "Ghana -------- 0\n"
     ]
    }
   ],
   "source": [
    "advanced_group = []\n",
    "last_group = \"\"\n",
    "\n",
    "for k in table.keys():\n",
    "    for t in table[k]:\n",
    "        t[1] = 0\n",
    "        t[2] = []\n",
    "        \n",
    "for teams in matches:\n",
    "    draw = False\n",
    "    team_1 = find_stats(teams[1])\n",
    "    team_2 = find_stats(teams[2])\n",
    "\n",
    "    \n",
    "\n",
    "    features_g1 = find_features(team_1, team_2)\n",
    "    features_g2 = find_features(team_2, team_1)\n",
    "\n",
    "    probs_g1 = rlog.predict_proba([features_g1])\n",
    "    probs_g2 = rlog.predict_proba([features_g2])\n",
    "    \n",
    "    team_1_prob_g1 = probs_g1[0][0] # Probabilidade de vitória do time 1 em casa\n",
    "    team_1_prob_g2 = probs_g2[0][1] # Probabilidade de vitória do time 1 fora de casa\n",
    "    team_2_prob_g1 = probs_g1[0][1] # Probabilidade de vitória do time 2 fora de casa\n",
    "    team_2_prob_g2 = probs_g2[0][0] # Probabilidade de vitória do time 2 em casa\n",
    "\n",
    "    team_1_prob = (probs_g1[0][0] + probs_g2[0][1])/2\n",
    "    team_2_prob = (probs_g2[0][0] + probs_g1[0][1])/2\n",
    "    \n",
    "    if ((team_1_prob_g1 > team_2_prob_g1) & (team_2_prob_g2 > team_1_prob_g2)) | ((team_1_prob_g1 < team_2_prob_g1) & (team_2_prob_g2 < team_1_prob_g2)):\n",
    "        draw=True\n",
    "        for i in table[teams[0]]:\n",
    "            if i[0] == teams[1] or i[0] == teams[2]:\n",
    "                i[1] += 1\n",
    "                \n",
    "    elif team_1_prob > team_2_prob:\n",
    "        winner = teams[1]\n",
    "        winner_proba = team_1_prob\n",
    "        for i in table[teams[0]]:\n",
    "            if i[0] == teams[1]:\n",
    "                i[1] += 3\n",
    "                \n",
    "    elif team_2_prob > team_1_prob:  \n",
    "        winner = teams[2]\n",
    "        winner_proba = team_2_prob\n",
    "        for i in table[teams[0]]:\n",
    "            if i[0] == teams[2]:\n",
    "                i[1] += 3\n",
    "    \n",
    "    for i in table[teams[0]]: #adding criterio de desempate (probs por jogo)\n",
    "            if i[0] == teams[1]:\n",
    "                i[2].append(team_1_prob)\n",
    "            if i[0] == teams[2]:\n",
    "                i[2].append(team_2_prob)\n",
    "\n",
    "    if last_group != teams[0]:\n",
    "        if last_group != \"\":\n",
    "            print(\"\\n\")\n",
    "            print(\"Grupo %s classificados: \"%(last_group))\n",
    "            \n",
    "            for i in table[last_group]: #adding crieterio de desempate\n",
    "                i[2] = np.mean(i[2])\n",
    "            \n",
    "            final_points = table[last_group]\n",
    "            final_table = sorted(final_points, key=itemgetter(1, 2), reverse = True)\n",
    "            advanced_group.append([final_table[0][0], final_table[1][0]])\n",
    "            for i in final_table:\n",
    "                print(\"%s -------- %d\"%(i[0], i[1]))\n",
    "        print(\"\\n\")\n",
    "        print(\"-\"*10+\" Começando a simulação para o Grupo %s \"%(teams[0])+\"-\"*10)\n",
    "        \n",
    "        \n",
    "    if draw == False:\n",
    "        print(\"Grupo %s - %s x %s: vencedor %s com %.2f probabilidade\"%(teams[0], teams[1], teams[2], winner, winner_proba))\n",
    "    else:\n",
    "        print(\"Grupo %s - %s x %s: Empate\"%(teams[0], teams[1], teams[2]))\n",
    "    last_group =  teams[0]\n",
    "\n",
    "print(\"\\n\")\n",
    "print(\"Group %s advanced: \"%(last_group))\n",
    "\n",
    "for i in table[last_group]: #adding crieterio de desempate\n",
    "    i[2] = np.mean(i[2])\n",
    "            \n",
    "final_points = table[last_group]\n",
    "final_table = sorted(final_points, key=itemgetter(1, 2), reverse = True)\n",
    "advanced_group.append([final_table[0][0], final_table[1][0]])\n",
    "for i in final_table:\n",
    "    print(\"%s -------- %d\"%(i[0], i[1]))"
   ]
  },
  {
   "cell_type": "code",
   "execution_count": 43,
   "id": "335e71db",
   "metadata": {
    "execution": {
     "iopub.execute_input": "2022-11-15T20:57:56.386842Z",
     "iopub.status.busy": "2022-11-15T20:57:56.386463Z",
     "iopub.status.idle": "2022-11-15T20:57:56.391321Z",
     "shell.execute_reply": "2022-11-15T20:57:56.390179Z"
    },
    "papermill": {
     "duration": 0.044245,
     "end_time": "2022-11-15T20:57:56.393755",
     "exception": false,
     "start_time": "2022-11-15T20:57:56.349510",
     "status": "completed"
    },
    "tags": []
   },
   "outputs": [],
   "source": [
    "advanced = advanced_group"
   ]
  },
  {
   "cell_type": "code",
   "execution_count": 44,
   "id": "2fa7960b",
   "metadata": {},
   "outputs": [
    {
     "data": {
      "text/plain": [
       "[['Netherlands', 'Senegal'],\n",
       " ['England', 'Wales'],\n",
       " ['Argentina', 'Mexico'],\n",
       " ['France', 'Denmark'],\n",
       " ['Germany', 'Spain'],\n",
       " ['Belgium', 'Morocco'],\n",
       " ['Brazil', 'Switzerland'],\n",
       " ['Portugal', 'Uruguay']]"
      ]
     },
     "execution_count": 44,
     "metadata": {},
     "output_type": "execute_result"
    }
   ],
   "source": [
    "advanced"
   ]
  },
  {
   "cell_type": "code",
   "execution_count": 45,
   "id": "4cb59c8d",
   "metadata": {
    "execution": {
     "iopub.execute_input": "2022-11-15T20:57:56.468365Z",
     "iopub.status.busy": "2022-11-15T20:57:56.467947Z",
     "iopub.status.idle": "2022-11-15T20:57:56.472854Z",
     "shell.execute_reply": "2022-11-15T20:57:56.471634Z"
    },
    "papermill": {
     "duration": 0.045457,
     "end_time": "2022-11-15T20:57:56.475095",
     "exception": false,
     "start_time": "2022-11-15T20:57:56.429638",
     "status": "completed"
    },
    "tags": []
   },
   "outputs": [],
   "source": [
    "playoffs = {\"Round of 16\": [], \"Quarter-Final\": [], \"Semi-Final\": [], \"Final\": []}"
   ]
  },
  {
   "cell_type": "code",
   "execution_count": 46,
   "id": "ed783a10",
   "metadata": {
    "execution": {
     "iopub.execute_input": "2022-11-15T20:57:56.548034Z",
     "iopub.status.busy": "2022-11-15T20:57:56.547634Z",
     "iopub.status.idle": "2022-11-15T20:57:56.705951Z",
     "shell.execute_reply": "2022-11-15T20:57:56.704513Z"
    },
    "papermill": {
     "duration": 0.198286,
     "end_time": "2022-11-15T20:57:56.708952",
     "exception": false,
     "start_time": "2022-11-15T20:57:56.510666",
     "status": "completed"
    },
    "tags": []
   },
   "outputs": [
    {
     "name": "stdout",
     "output_type": "stream",
     "text": [
      "----------\n",
      "Starting simulation of Round of 16\n",
      "----------\n",
      "\n",
      "\n",
      "Netherlands vs. Wales: Netherlands advances with prob 0.50\n",
      "Argentina vs. Denmark: Argentina advances with prob 0.60\n",
      "Germany vs. Morocco: Germany advances with prob 0.58\n",
      "Brazil vs. Uruguay: Brazil advances with prob 0.66\n",
      "Senegal vs. England: England advances with prob 0.56\n",
      "Mexico vs. France: Mexico advances with prob 0.50\n",
      "Spain vs. Belgium: Belgium advances with prob 0.53\n",
      "Switzerland vs. Portugal: Portugal advances with prob 0.54\n",
      "----------\n",
      "Starting simulation of Quarter-Final\n",
      "----------\n",
      "\n",
      "\n",
      "Netherlands vs. Argentina: Argentina advances with prob 0.57\n",
      "Germany vs. Brazil: Brazil advances with prob 0.63\n",
      "England vs. Mexico: England advances with prob 0.54\n",
      "Belgium vs. Portugal: Belgium advances with prob 0.53\n",
      "----------\n",
      "Starting simulation of Semi-Final\n",
      "----------\n",
      "\n",
      "\n",
      "Argentina vs. Brazil: Brazil advances with prob 0.56\n",
      "England vs. Belgium: England advances with prob 0.50\n",
      "----------\n",
      "Starting simulation of Final\n",
      "----------\n",
      "\n",
      "\n",
      "Brazil vs. England: Brazil advances with prob 0.61\n"
     ]
    }
   ],
   "source": [
    "for p in playoffs.keys():\n",
    "    playoffs[p] = []\n",
    "\n",
    "actual_round = \"\"\n",
    "next_rounds = []\n",
    "\n",
    "for p in playoffs.keys():\n",
    "    if p == \"Round of 16\":\n",
    "        control = []\n",
    "        for a in range(0, len(advanced*2), 1):\n",
    "            if a < len(advanced):\n",
    "                if a % 2 == 0:\n",
    "                    control.append((advanced*2)[a][0])\n",
    "                else:\n",
    "                    control.append((advanced*2)[a][1])\n",
    "            else:\n",
    "                if a % 2 == 0:\n",
    "                    control.append((advanced*2)[a][1])\n",
    "                else:\n",
    "                    control.append((advanced*2)[a][0])\n",
    "\n",
    "        playoffs[p] = [[control[c], control[c+1]] for c in range(0, len(control)-1, 1) if c%2 == 0]\n",
    "        \n",
    "        for i in range(0, len(playoffs[p]), 1):\n",
    "            game = playoffs[p][i]\n",
    "            \n",
    "            home = game[0]\n",
    "            away = game[1]\n",
    "            team_1 = find_stats(home)\n",
    "            team_2 = find_stats(away)\n",
    "\n",
    "            features_g1 = find_features(team_1, team_2)\n",
    "            features_g2 = find_features(team_2, team_1)\n",
    "            \n",
    "            probs_g1 = rlog.predict_proba([features_g1])\n",
    "            probs_g2 = rlog.predict_proba([features_g2])\n",
    "            \n",
    "            team_1_prob = (probs_g1[0][0] + probs_g2[0][1])/2\n",
    "            team_2_prob = (probs_g2[0][0] + probs_g1[0][1])/2\n",
    "            \n",
    "            if actual_round != p:\n",
    "                print(\"-\"*10)\n",
    "                print(\"Starting simulation of %s\"%(p))\n",
    "                print(\"-\"*10)\n",
    "                print(\"\\n\")\n",
    "            \n",
    "            if team_1_prob < team_2_prob:\n",
    "                print(\"%s vs. %s: %s advances with prob %.2f\"%(home, away, away, team_2_prob))\n",
    "                next_rounds.append(away)\n",
    "            else:\n",
    "                print(\"%s vs. %s: %s advances with prob %.2f\"%(home, away, home, team_1_prob))\n",
    "                next_rounds.append(home)\n",
    "            \n",
    "            game.append([team_1_prob, team_2_prob])\n",
    "            playoffs[p][i] = game\n",
    "            actual_round = p\n",
    "        \n",
    "    else:\n",
    "        playoffs[p] = [[next_rounds[c], next_rounds[c+1]] for c in range(0, len(next_rounds)-1, 1) if c%2 == 0]\n",
    "        next_rounds = []\n",
    "        for i in range(0, len(playoffs[p])):\n",
    "            game = playoffs[p][i]\n",
    "            home = game[0]\n",
    "            away = game[1]\n",
    "            team_1 = find_stats(home)\n",
    "            team_2 = find_stats(away)\n",
    "            \n",
    "            features_g1 = find_features(team_1, team_2)\n",
    "            features_g2 = find_features(team_2, team_1)\n",
    "            \n",
    "            probs_g1 = rlog.predict_proba([features_g1])\n",
    "            probs_g2 = rlog.predict_proba([features_g2])\n",
    "            \n",
    "            team_1_prob = (probs_g1[0][0] + probs_g2[0][1])/2\n",
    "            team_2_prob = (probs_g2[0][0] + probs_g1[0][1])/2\n",
    "            \n",
    "            if actual_round != p:\n",
    "                print(\"-\"*10)\n",
    "                print(\"Starting simulation of %s\"%(p))\n",
    "                print(\"-\"*10)\n",
    "                print(\"\\n\")\n",
    "            \n",
    "            if team_1_prob < team_2_prob:\n",
    "                print(\"%s vs. %s: %s advances with prob %.2f\"%(home, away, away, team_2_prob))\n",
    "                next_rounds.append(away)\n",
    "            else:\n",
    "                print(\"%s vs. %s: %s advances with prob %.2f\"%(home, away, home, team_1_prob))\n",
    "                next_rounds.append(home)\n",
    "            game.append([team_1_prob, team_2_prob])\n",
    "            playoffs[p][i] = game\n",
    "            actual_round = p\n",
    "            "
   ]
  },
  {
   "cell_type": "code",
   "execution_count": 47,
   "id": "3ff86eef",
   "metadata": {
    "execution": {
     "iopub.execute_input": "2022-11-15T20:57:56.783499Z",
     "iopub.status.busy": "2022-11-15T20:57:56.783107Z",
     "iopub.status.idle": "2022-11-15T20:57:57.118683Z",
     "shell.execute_reply": "2022-11-15T20:57:57.117584Z"
    },
    "papermill": {
     "duration": 0.376199,
     "end_time": "2022-11-15T20:57:57.121480",
     "exception": false,
     "start_time": "2022-11-15T20:57:56.745281",
     "status": "completed"
    },
    "tags": []
   },
   "outputs": [],
   "source": [
    "import networkx as nx\n",
    "from networkx.drawing.nx_pydot import graphviz_layout"
   ]
  },
  {
   "cell_type": "code",
   "execution_count": 48,
   "id": "106a2250",
   "metadata": {
    "execution": {
     "iopub.execute_input": "2022-11-15T20:57:57.195366Z",
     "iopub.status.busy": "2022-11-15T20:57:57.194935Z",
     "iopub.status.idle": "2022-11-15T20:57:59.130119Z",
     "shell.execute_reply": "2022-11-15T20:57:59.128760Z"
    },
    "papermill": {
     "duration": 1.976729,
     "end_time": "2022-11-15T20:57:59.134374",
     "exception": false,
     "start_time": "2022-11-15T20:57:57.157645",
     "status": "completed"
    },
    "tags": []
   },
   "outputs": [
    {
     "data": {
      "image/png": "[encoded data removed]",
      "text/plain": [
       "<Figure size 1500x1000 with 1 Axes>"
      ]
     },
     "metadata": {},
     "output_type": "display_data"
    }
   ],
   "source": [
    "plt.figure(figsize=(15, 10))\n",
    "G = nx.balanced_tree(2, 3)\n",
    "\n",
    "\n",
    "labels = []\n",
    "\n",
    "\n",
    "for p in playoffs.keys():\n",
    "    for game in playoffs[p]:\n",
    "        label = f\"{game[0]}({round(game[2][0], 2)}) \\n {game[1]}({round(game[2][1], 2)})\"\n",
    "        labels.append(label)\n",
    "    \n",
    "labels_dict = {}\n",
    "labels_rev = list(reversed(labels))\n",
    "\n",
    "for l in range(len(list(G.nodes))):\n",
    "    labels_dict[l] = labels_rev[l]\n",
    "\n",
    "pos = graphviz_layout(G, prog='twopi')\n",
    "labels_pos = {n: (k[0], k[1]-0.08*k[1]) for n,k in pos.items()}\n",
    "center  = pd.DataFrame(pos).mean(axis=1).mean()\n",
    "    \n",
    "\n",
    "nx.draw(G, pos = pos, with_labels=False, node_color=range(15), edge_color=\"#bbf5bb\", width=10, font_weight='bold',cmap=plt.cm.Greens, node_size=5000)\n",
    "nx.draw_networkx_labels(G, pos = labels_pos, bbox=dict(boxstyle=\"round,pad=0.3\", fc=\"white\", ec=\"black\", lw=.5, alpha=1),\n",
    "                        labels=labels_dict)\n",
    "texts = [\"Round \\nof 16\", \"Quarter \\n Final\", \"Semi \\n Final\", \"Final\\n\"]\n",
    "pos_y = pos[0][1] + 55\n",
    "for text in reversed(texts):\n",
    "    pos_x = center\n",
    "    pos_y -= 75 \n",
    "    plt.text(pos_y, pos_x, text, fontsize = 18)\n",
    "\n",
    "plt.axis('equal')\n",
    "plt.show()"
   ]
  },
  {
   "cell_type": "markdown",
   "id": "6b36fa9c",
   "metadata": {
    "papermill": {
     "duration": 0.042605,
     "end_time": "2022-11-15T20:57:59.216353",
     "exception": false,
     "start_time": "2022-11-15T20:57:59.173748",
     "status": "completed"
    },
    "tags": []
   },
   "source": [
    "And that's the final simulation! Brazil has won the 6th title! Hoping that my predictions are correct now. \n",
    "\n",
    "It's nice to analyze too the possible upsets. Belgium passed against Germany, and were defeated by Portugal. Argentina - Netherlands game is very tight, with Netherlands passing by nearly 1%. The same happens between France and England, with England passing. I think England as finalist was the biggest upset of the simulation.\n",
    "\n",
    "# Conclusion\n",
    "\n",
    "The goal of this was to improve my knowledge with Machine Learning simulating something that I love (Football World Cup). I think that's amazing to create models that we can see the result in real life, and that's what is going to happen!\n",
    "\n",
    "In general, I think that the model predicted like the common sense of people who watch football. There are not huge surprises in the simulation. It's also nice to see games with teams that are more unkown in group phase, like Iran vs. Wales or Senegal vs. Ecuador. I think that in games like that, the model is a good guidance to betting, since the knowledge of most people second tier national teams is not great."
   ]
  },
  {
   "cell_type": "code",
   "execution_count": null,
   "id": "2aa317c7",
   "metadata": {
    "papermill": {
     "duration": 0.037427,
     "end_time": "2022-11-15T20:57:59.291579",
     "exception": false,
     "start_time": "2022-11-15T20:57:59.254152",
     "status": "completed"
    },
    "tags": []
   },
   "outputs": [],
   "source": []
  }
 ],
 "metadata": {
  "kernelspec": {
   "display_name": "Python 3.10.7 ('venv': venv)",
   "language": "python",
   "name": "python3"
  },
  "language_info": {
   "codemirror_mode": {
    "name": "ipython",
    "version": 3
   },
   "file_extension": ".py",
   "mimetype": "text/x-python",
   "name": "python",
   "nbconvert_exporter": "python",
   "pygments_lexer": "ipython3",
   "version": "3.10.7"
  },
  "orig_nbformat": 4,
  "vscode": {
   "interpreter": {
    "hash": "dc92fe8e947d1ff8fb2a5d8e02ea2774ba9c0c4cc3cc06a16d05221acdc2088b"
   }
  }
 },
 "nbformat": 4,
 "nbformat_minor": 2
}
